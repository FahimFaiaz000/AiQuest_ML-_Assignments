{
 "cells": [
  {
   "cell_type": "markdown",
   "id": "cd926497",
   "metadata": {},
   "source": [
    "# Rename the key of a dictionary."
   ]
  },
  {
   "cell_type": "code",
   "execution_count": 20,
   "id": "d8c8256c",
   "metadata": {},
   "outputs": [],
   "source": [
    "dic = { \"name\": \"Shakil\",\n",
    "        \"age\":27,\n",
    "        \"city\": \"Berlin\",\n",
    "        \"country\": \"Germany\" }"
   ]
  },
  {
   "cell_type": "code",
   "execution_count": 21,
   "id": "0d279cef",
   "metadata": {},
   "outputs": [
    {
     "name": "stdout",
     "output_type": "stream",
     "text": [
      "{'age': 27, 'city': 'Berlin', 'country': 'Germany', 'Username': 'Shakil'}\n"
     ]
    }
   ],
   "source": [
    "old_key = \"name\"\n",
    "new_key = \"Username\"\n",
    "dic[new_key] = dic.pop(old_key)\n",
    "\n",
    "print(dic)"
   ]
  },
  {
   "cell_type": "code",
   "execution_count": null,
   "id": "8bad18ac",
   "metadata": {},
   "outputs": [],
   "source": []
  }
 ],
 "metadata": {
  "kernelspec": {
   "display_name": "Python 3 (ipykernel)",
   "language": "python",
   "name": "python3"
  },
  "language_info": {
   "codemirror_mode": {
    "name": "ipython",
    "version": 3
   },
   "file_extension": ".py",
   "mimetype": "text/x-python",
   "name": "python",
   "nbconvert_exporter": "python",
   "pygments_lexer": "ipython3",
   "version": "3.9.13"
  }
 },
 "nbformat": 4,
 "nbformat_minor": 5
}
