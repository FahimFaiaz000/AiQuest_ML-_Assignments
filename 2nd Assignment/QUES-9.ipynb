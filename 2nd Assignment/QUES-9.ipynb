{
 "cells": [
  {
   "cell_type": "markdown",
   "id": "2da742f2",
   "metadata": {},
   "source": [
    "# Reverse a given integer number 27956240710."
   ]
  },
  {
   "cell_type": "code",
   "execution_count": 15,
   "id": "d540dc0c",
   "metadata": {},
   "outputs": [
    {
     "name": "stdout",
     "output_type": "stream",
     "text": [
      "01704265972\n"
     ]
    }
   ],
   "source": [
    "num='27956240710'\n",
    "rev_num = num[::-1]\n",
    "print(rev_num)"
   ]
  },
  {
   "cell_type": "code",
   "execution_count": null,
   "id": "945f179e",
   "metadata": {},
   "outputs": [],
   "source": []
  }
 ],
 "metadata": {
  "kernelspec": {
   "display_name": "Python 3 (ipykernel)",
   "language": "python",
   "name": "python3"
  },
  "language_info": {
   "codemirror_mode": {
    "name": "ipython",
    "version": 3
   },
   "file_extension": ".py",
   "mimetype": "text/x-python",
   "name": "python",
   "nbconvert_exporter": "python",
   "pygments_lexer": "ipython3",
   "version": "3.9.13"
  }
 },
 "nbformat": 4,
 "nbformat_minor": 5
}
