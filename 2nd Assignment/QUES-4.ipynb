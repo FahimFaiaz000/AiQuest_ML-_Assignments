{
 "cells": [
  {
   "cell_type": "markdown",
   "id": "5d522c92",
   "metadata": {},
   "source": [
    "# Checking Grade"
   ]
  },
  {
   "cell_type": "code",
   "execution_count": 1,
   "id": "fdf15464",
   "metadata": {},
   "outputs": [
    {
     "name": "stdout",
     "output_type": "stream",
     "text": [
      "Enter the mark: \n",
      "56\n",
      "C\n"
     ]
    }
   ],
   "source": [
    "print(\"Enter the mark: \")\n",
    "mark = int(input())  \n",
    "if mark<25:\n",
    "    print(\"F\")\n",
    "elif 25<=mark<45:\n",
    "    print(\"E\")\n",
    "elif 45<=mark<50:\n",
    "    print(\"D\")\n",
    "elif 50<=mark<60:\n",
    "    print(\"C\")\n",
    "elif 60<=mark<80:\n",
    "    print(\"B\")\n",
    "else:\n",
    "    print(\"A\")"
   ]
  },
  {
   "cell_type": "code",
   "execution_count": null,
   "id": "a1053067",
   "metadata": {},
   "outputs": [],
   "source": []
  }
 ],
 "metadata": {
  "kernelspec": {
   "display_name": "Python 3 (ipykernel)",
   "language": "python",
   "name": "python3"
  },
  "language_info": {
   "codemirror_mode": {
    "name": "ipython",
    "version": 3
   },
   "file_extension": ".py",
   "mimetype": "text/x-python",
   "name": "python",
   "nbconvert_exporter": "python",
   "pygments_lexer": "ipython3",
   "version": "3.9.13"
  }
 },
 "nbformat": 4,
 "nbformat_minor": 5
}
