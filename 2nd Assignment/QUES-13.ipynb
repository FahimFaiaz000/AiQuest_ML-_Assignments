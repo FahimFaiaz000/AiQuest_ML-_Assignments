{
 "cells": [
  {
   "cell_type": "markdown",
   "id": "405341a4",
   "metadata": {},
   "source": [
    "# Find the intersection (common) of two sets.\n"
   ]
  },
  {
   "cell_type": "code",
   "execution_count": 7,
   "id": "57de6589",
   "metadata": {},
   "outputs": [
    {
     "name": "stdout",
     "output_type": "stream",
     "text": [
      "Intersection: {1}\n"
     ]
    }
   ],
   "source": [
    "S1 = {1, 4, 6, 8}\n",
    "S2 = {'True', 1, 2, 10}\n",
    "\n",
    "intersection = S1.intersection(S2)\n",
    "print(\"Intersection:\", intersection)"
   ]
  },
  {
   "cell_type": "code",
   "execution_count": null,
   "id": "00e5126f",
   "metadata": {},
   "outputs": [],
   "source": []
  }
 ],
 "metadata": {
  "kernelspec": {
   "display_name": "Python 3 (ipykernel)",
   "language": "python",
   "name": "python3"
  },
  "language_info": {
   "codemirror_mode": {
    "name": "ipython",
    "version": 3
   },
   "file_extension": ".py",
   "mimetype": "text/x-python",
   "name": "python",
   "nbconvert_exporter": "python",
   "pygments_lexer": "ipython3",
   "version": "3.9.13"
  }
 },
 "nbformat": 4,
 "nbformat_minor": 5
}
