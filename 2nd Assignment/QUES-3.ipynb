{
 "cells": [
  {
   "cell_type": "markdown",
   "id": "45adf0fa",
   "metadata": {},
   "source": [
    "# A student will not be allowed to sit in an exam if his/her attendance is less than 75%."
   ]
  },
  {
   "cell_type": "code",
   "execution_count": 1,
   "id": "408dc32b",
   "metadata": {},
   "outputs": [
    {
     "name": "stdout",
     "output_type": "stream",
     "text": [
      "Enter the attendance: \n",
      "56\n",
      "The student will not be allowed to sit in an exam\n"
     ]
    }
   ],
   "source": [
    "print(\"Enter the attendance: \")\n",
    "p = int(input()) \n",
    "if p >= 75:\n",
    "    print(\"The student will be allowed to sit in an exam\")\n",
    "else:\n",
    "    print(\"The student will not be allowed to sit in an exam\")"
   ]
  },
  {
   "cell_type": "code",
   "execution_count": null,
   "id": "0579e1a3",
   "metadata": {},
   "outputs": [],
   "source": []
  }
 ],
 "metadata": {
  "kernelspec": {
   "display_name": "Python 3 (ipykernel)",
   "language": "python",
   "name": "python3"
  },
  "language_info": {
   "codemirror_mode": {
    "name": "ipython",
    "version": 3
   },
   "file_extension": ".py",
   "mimetype": "text/x-python",
   "name": "python",
   "nbconvert_exporter": "python",
   "pygments_lexer": "ipython3",
   "version": "3.9.13"
  }
 },
 "nbformat": 4,
 "nbformat_minor": 5
}
