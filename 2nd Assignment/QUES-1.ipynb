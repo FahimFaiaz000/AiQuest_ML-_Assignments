{
 "cells": [
  {
   "cell_type": "markdown",
   "id": "5701f0dd",
   "metadata": {},
   "source": [
    "# Take values of the length & breadth of a rectangle from user input and check if it is square or not."
   ]
  },
  {
   "cell_type": "code",
   "execution_count": 6,
   "id": "494942d3",
   "metadata": {},
   "outputs": [
    {
     "name": "stdout",
     "output_type": "stream",
     "text": [
      "Enter the length: \n",
      "10\n",
      "Enter the breadth: \n",
      "15\n",
      "This is only Rectangle\n"
     ]
    }
   ],
   "source": [
    "print (\"Enter the length: \")\n",
    "leng = input()\n",
    "print (\"Enter the breadth: \")\n",
    "bdth = input()\n",
    "if leng == bdth:\n",
    "  print (\"This is square\")\n",
    "else:\n",
    "  print (\"This is only Rectangle\")"
   ]
  },
  {
   "cell_type": "code",
   "execution_count": null,
   "id": "be8219c9",
   "metadata": {},
   "outputs": [],
   "source": []
  },
  {
   "cell_type": "code",
   "execution_count": null,
   "id": "76951475",
   "metadata": {},
   "outputs": [],
   "source": []
  }
 ],
 "metadata": {
  "kernelspec": {
   "display_name": "Python 3 (ipykernel)",
   "language": "python",
   "name": "python3"
  },
  "language_info": {
   "codemirror_mode": {
    "name": "ipython",
    "version": 3
   },
   "file_extension": ".py",
   "mimetype": "text/x-python",
   "name": "python",
   "nbconvert_exporter": "python",
   "pygments_lexer": "ipython3",
   "version": "3.9.13"
  }
 },
 "nbformat": 4,
 "nbformat_minor": 5
}
