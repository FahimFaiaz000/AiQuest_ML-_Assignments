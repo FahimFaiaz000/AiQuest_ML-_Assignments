{
 "cells": [
  {
   "cell_type": "markdown",
   "id": "0692adc4",
   "metadata": {},
   "source": [
    "# Remove 2 and add 3 to the list and replace True with False."
   ]
  },
  {
   "cell_type": "code",
   "execution_count": 67,
   "id": "c410ffba",
   "metadata": {},
   "outputs": [],
   "source": [
    "li = [1,3,5,[2,3],True]"
   ]
  },
  {
   "cell_type": "code",
   "execution_count": 68,
   "id": "ab1cb32e",
   "metadata": {},
   "outputs": [],
   "source": [
    "li[3].insert(0, 3)"
   ]
  },
  {
   "cell_type": "code",
   "execution_count": 69,
   "id": "a7480f1b",
   "metadata": {
    "scrolled": true
   },
   "outputs": [
    {
     "data": {
      "text/plain": [
       "[1, 3, 5, [3, 2, 3], True]"
      ]
     },
     "execution_count": 69,
     "metadata": {},
     "output_type": "execute_result"
    }
   ],
   "source": [
    "li"
   ]
  },
  {
   "cell_type": "code",
   "execution_count": 71,
   "id": "fb67e592",
   "metadata": {},
   "outputs": [],
   "source": [
    "li[3].remove(2)"
   ]
  },
  {
   "cell_type": "code",
   "execution_count": 72,
   "id": "c9804d74",
   "metadata": {},
   "outputs": [
    {
     "data": {
      "text/plain": [
       "[1, 3, 5, [3, 3], True]"
      ]
     },
     "execution_count": 72,
     "metadata": {},
     "output_type": "execute_result"
    }
   ],
   "source": [
    "li"
   ]
  },
  {
   "cell_type": "code",
   "execution_count": 73,
   "id": "eb61ee19",
   "metadata": {},
   "outputs": [],
   "source": [
    "li[4] = 'False'"
   ]
  },
  {
   "cell_type": "code",
   "execution_count": 74,
   "id": "f7ca7443",
   "metadata": {},
   "outputs": [
    {
     "data": {
      "text/plain": [
       "[1, 3, 5, [3, 3], 'False']"
      ]
     },
     "execution_count": 74,
     "metadata": {},
     "output_type": "execute_result"
    }
   ],
   "source": [
    "li"
   ]
  },
  {
   "cell_type": "code",
   "execution_count": 75,
   "id": "1af31bee",
   "metadata": {},
   "outputs": [
    {
     "data": {
      "text/plain": [
       "[1, 3, 5, [3, 3], 'False']"
      ]
     },
     "execution_count": 75,
     "metadata": {},
     "output_type": "execute_result"
    }
   ],
   "source": [
    "li"
   ]
  },
  {
   "cell_type": "code",
   "execution_count": null,
   "id": "eec94ec7",
   "metadata": {},
   "outputs": [],
   "source": []
  }
 ],
 "metadata": {
  "kernelspec": {
   "display_name": "Python 3 (ipykernel)",
   "language": "python",
   "name": "python3"
  },
  "language_info": {
   "codemirror_mode": {
    "name": "ipython",
    "version": 3
   },
   "file_extension": ".py",
   "mimetype": "text/x-python",
   "name": "python",
   "nbconvert_exporter": "python",
   "pygments_lexer": "ipython3",
   "version": "3.9.13"
  }
 },
 "nbformat": 4,
 "nbformat_minor": 5
}
