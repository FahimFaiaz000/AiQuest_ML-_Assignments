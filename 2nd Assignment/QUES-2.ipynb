{
 "cells": [
  {
   "cell_type": "markdown",
   "id": "25d775bc",
   "metadata": {},
   "source": [
    "# Take three integer values from the user and print the greatest among them."
   ]
  },
  {
   "cell_type": "code",
   "execution_count": 3,
   "id": "881f91ea",
   "metadata": {},
   "outputs": [
    {
     "name": "stdout",
     "output_type": "stream",
     "text": [
      "Enter three number: \n",
      "4\n",
      "5\n",
      "6\n",
      "c is greater\n"
     ]
    }
   ],
   "source": [
    "print(\"Enter three number: \")\n",
    "a = input()\n",
    "b = input()\n",
    "c = input()\n",
    "if(a<b and c<b):\n",
    "    print(\"b is greater\")\n",
    "elif(a<c and b<c):\n",
    "    print(\"c is greater\")\n",
    "elif(a>b and a>c):\n",
    "    print(\"a is greater\")\n",
    "else:\n",
    "      print(\"The numbers are equal. \")"
   ]
  },
  {
   "cell_type": "code",
   "execution_count": null,
   "id": "8f268d65",
   "metadata": {},
   "outputs": [],
   "source": []
  }
 ],
 "metadata": {
  "kernelspec": {
   "display_name": "Python 3 (ipykernel)",
   "language": "python",
   "name": "python3"
  },
  "language_info": {
   "codemirror_mode": {
    "name": "ipython",
    "version": 3
   },
   "file_extension": ".py",
   "mimetype": "text/x-python",
   "name": "python",
   "nbconvert_exporter": "python",
   "pygments_lexer": "ipython3",
   "version": "3.9.13"
  }
 },
 "nbformat": 4,
 "nbformat_minor": 5
}
