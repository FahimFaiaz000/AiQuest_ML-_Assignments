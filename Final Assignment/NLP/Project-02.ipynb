{
 "cells": [
  {
   "cell_type": "markdown",
   "id": "47ab04b8",
   "metadata": {},
   "source": [
    "# Import Libraries"
   ]
  },
  {
   "cell_type": "code",
   "execution_count": 1,
   "id": "2cfbad2c",
   "metadata": {},
   "outputs": [],
   "source": [
    "import pandas as pd\n",
    "import nltk\n",
    "import matplotlib.pyplot as plt\n",
    "import string\n",
    "import seaborn as sns\n",
    "from nltk.corpus import stopwords \n",
    "from nltk.stem import WordNetLemmatizer \n",
    "from sklearn.feature_extraction.text import TfidfVectorizer \n",
    "from sklearn.model_selection import train_test_split\n",
    "from sklearn.linear_model import LogisticRegression\n",
    "from sklearn.ensemble import RandomForestClassifier\n",
    "from sklearn.naive_bayes import MultinomialNB, BernoulliNB \n",
    "from sklearn.model_selection import RandomizedSearchCV\n",
    "from sklearn.metrics import confusion_matrix, accuracy_score, auc, roc_auc_score, roc_curve, plot_roc_curve, precision_recall_curve, classification_report"
   ]
  },
  {
   "cell_type": "markdown",
   "id": "cddeb967",
   "metadata": {},
   "source": [
    "# Load the Dataset"
   ]
  },
  {
   "cell_type": "code",
   "execution_count": 2,
   "id": "61ba0170",
   "metadata": {},
   "outputs": [
    {
     "data": {
      "text/html": [
       "<div>\n",
       "<style scoped>\n",
       "    .dataframe tbody tr th:only-of-type {\n",
       "        vertical-align: middle;\n",
       "    }\n",
       "\n",
       "    .dataframe tbody tr th {\n",
       "        vertical-align: top;\n",
       "    }\n",
       "\n",
       "    .dataframe thead th {\n",
       "        text-align: right;\n",
       "    }\n",
       "</style>\n",
       "<table border=\"1\" class=\"dataframe\">\n",
       "  <thead>\n",
       "    <tr style=\"text-align: right;\">\n",
       "      <th></th>\n",
       "      <th>reviewText</th>\n",
       "      <th>Positive</th>\n",
       "    </tr>\n",
       "  </thead>\n",
       "  <tbody>\n",
       "    <tr>\n",
       "      <th>0</th>\n",
       "      <td>This is a one of the best apps acording to a b...</td>\n",
       "      <td>1</td>\n",
       "    </tr>\n",
       "    <tr>\n",
       "      <th>1</th>\n",
       "      <td>This is a pretty good version of the game for ...</td>\n",
       "      <td>1</td>\n",
       "    </tr>\n",
       "    <tr>\n",
       "      <th>2</th>\n",
       "      <td>this is a really cool game. there are a bunch ...</td>\n",
       "      <td>1</td>\n",
       "    </tr>\n",
       "    <tr>\n",
       "      <th>3</th>\n",
       "      <td>This is a silly game and can be frustrating, b...</td>\n",
       "      <td>1</td>\n",
       "    </tr>\n",
       "    <tr>\n",
       "      <th>4</th>\n",
       "      <td>This is a terrific game on any pad. Hrs of fun...</td>\n",
       "      <td>1</td>\n",
       "    </tr>\n",
       "  </tbody>\n",
       "</table>\n",
       "</div>"
      ],
      "text/plain": [
       "                                          reviewText  Positive\n",
       "0  This is a one of the best apps acording to a b...         1\n",
       "1  This is a pretty good version of the game for ...         1\n",
       "2  this is a really cool game. there are a bunch ...         1\n",
       "3  This is a silly game and can be frustrating, b...         1\n",
       "4  This is a terrific game on any pad. Hrs of fun...         1"
      ]
     },
     "execution_count": 2,
     "metadata": {},
     "output_type": "execute_result"
    }
   ],
   "source": [
    "df = pd.read_csv(\"amazon.csv\")\n",
    "df.head()"
   ]
  },
  {
   "cell_type": "code",
   "execution_count": 3,
   "id": "5e37a5ca",
   "metadata": {},
   "outputs": [],
   "source": [
    "df1 = df.copy()"
   ]
  },
  {
   "cell_type": "code",
   "execution_count": 4,
   "id": "1fd930fe",
   "metadata": {},
   "outputs": [
    {
     "data": {
      "text/plain": [
       "reviewText    0\n",
       "Positive      0\n",
       "dtype: int64"
      ]
     },
     "execution_count": 4,
     "metadata": {},
     "output_type": "execute_result"
    }
   ],
   "source": [
    "df1.isnull().sum()"
   ]
  },
  {
   "cell_type": "markdown",
   "id": "fa72453c",
   "metadata": {},
   "source": [
    "# Text preprocessing"
   ]
  },
  {
   "cell_type": "code",
   "execution_count": 5,
   "id": "1ca719ed",
   "metadata": {},
   "outputs": [],
   "source": [
    "text_column = 'reviewText'\n",
    "labels = 'Positive'"
   ]
  },
  {
   "cell_type": "code",
   "execution_count": 6,
   "id": "473e7bd5",
   "metadata": {},
   "outputs": [
    {
     "data": {
      "text/plain": [
       "1    15233\n",
       "0     4767\n",
       "Name: Positive, dtype: int64"
      ]
     },
     "execution_count": 6,
     "metadata": {},
     "output_type": "execute_result"
    }
   ],
   "source": [
    "df1['Positive'].value_counts()"
   ]
  },
  {
   "cell_type": "code",
   "execution_count": 7,
   "id": "6e1c118e",
   "metadata": {},
   "outputs": [
    {
     "data": {
      "text/plain": [
       "'This is a one of the best apps acording to a bunch of people and I agree it has bombs eggs pigs TNT king pigs and realustic stuff'"
      ]
     },
     "execution_count": 7,
     "metadata": {},
     "output_type": "execute_result"
    }
   ],
   "source": [
    "df1.reviewText[0]"
   ]
  },
  {
   "cell_type": "code",
   "execution_count": 8,
   "id": "2cef9c11",
   "metadata": {},
   "outputs": [
    {
     "data": {
      "text/plain": [
       "{'a',\n",
       " 'about',\n",
       " 'above',\n",
       " 'after',\n",
       " 'again',\n",
       " 'against',\n",
       " 'ain',\n",
       " 'all',\n",
       " 'am',\n",
       " 'an',\n",
       " 'and',\n",
       " 'any',\n",
       " 'are',\n",
       " 'aren',\n",
       " \"aren't\",\n",
       " 'as',\n",
       " 'at',\n",
       " 'be',\n",
       " 'because',\n",
       " 'been',\n",
       " 'before',\n",
       " 'being',\n",
       " 'below',\n",
       " 'between',\n",
       " 'both',\n",
       " 'but',\n",
       " 'by',\n",
       " 'can',\n",
       " 'couldn',\n",
       " \"couldn't\",\n",
       " 'd',\n",
       " 'did',\n",
       " 'didn',\n",
       " \"didn't\",\n",
       " 'do',\n",
       " 'does',\n",
       " 'doesn',\n",
       " \"doesn't\",\n",
       " 'doing',\n",
       " 'don',\n",
       " \"don't\",\n",
       " 'down',\n",
       " 'during',\n",
       " 'each',\n",
       " 'few',\n",
       " 'for',\n",
       " 'from',\n",
       " 'further',\n",
       " 'had',\n",
       " 'hadn',\n",
       " \"hadn't\",\n",
       " 'has',\n",
       " 'hasn',\n",
       " \"hasn't\",\n",
       " 'have',\n",
       " 'haven',\n",
       " \"haven't\",\n",
       " 'having',\n",
       " 'he',\n",
       " 'her',\n",
       " 'here',\n",
       " 'hers',\n",
       " 'herself',\n",
       " 'him',\n",
       " 'himself',\n",
       " 'his',\n",
       " 'how',\n",
       " 'i',\n",
       " 'if',\n",
       " 'in',\n",
       " 'into',\n",
       " 'is',\n",
       " 'isn',\n",
       " \"isn't\",\n",
       " 'it',\n",
       " \"it's\",\n",
       " 'its',\n",
       " 'itself',\n",
       " 'just',\n",
       " 'll',\n",
       " 'm',\n",
       " 'ma',\n",
       " 'me',\n",
       " 'mightn',\n",
       " \"mightn't\",\n",
       " 'more',\n",
       " 'most',\n",
       " 'mustn',\n",
       " \"mustn't\",\n",
       " 'my',\n",
       " 'myself',\n",
       " 'needn',\n",
       " \"needn't\",\n",
       " 'no',\n",
       " 'nor',\n",
       " 'not',\n",
       " 'now',\n",
       " 'o',\n",
       " 'of',\n",
       " 'off',\n",
       " 'on',\n",
       " 'once',\n",
       " 'only',\n",
       " 'or',\n",
       " 'other',\n",
       " 'our',\n",
       " 'ours',\n",
       " 'ourselves',\n",
       " 'out',\n",
       " 'over',\n",
       " 'own',\n",
       " 're',\n",
       " 's',\n",
       " 'same',\n",
       " 'shan',\n",
       " \"shan't\",\n",
       " 'she',\n",
       " \"she's\",\n",
       " 'should',\n",
       " \"should've\",\n",
       " 'shouldn',\n",
       " \"shouldn't\",\n",
       " 'so',\n",
       " 'some',\n",
       " 'such',\n",
       " 't',\n",
       " 'than',\n",
       " 'that',\n",
       " \"that'll\",\n",
       " 'the',\n",
       " 'their',\n",
       " 'theirs',\n",
       " 'them',\n",
       " 'themselves',\n",
       " 'then',\n",
       " 'there',\n",
       " 'these',\n",
       " 'they',\n",
       " 'this',\n",
       " 'those',\n",
       " 'through',\n",
       " 'to',\n",
       " 'too',\n",
       " 'under',\n",
       " 'until',\n",
       " 'up',\n",
       " 've',\n",
       " 'very',\n",
       " 'was',\n",
       " 'wasn',\n",
       " \"wasn't\",\n",
       " 'we',\n",
       " 'were',\n",
       " 'weren',\n",
       " \"weren't\",\n",
       " 'what',\n",
       " 'when',\n",
       " 'where',\n",
       " 'which',\n",
       " 'while',\n",
       " 'who',\n",
       " 'whom',\n",
       " 'why',\n",
       " 'will',\n",
       " 'with',\n",
       " 'won',\n",
       " \"won't\",\n",
       " 'wouldn',\n",
       " \"wouldn't\",\n",
       " 'y',\n",
       " 'you',\n",
       " \"you'd\",\n",
       " \"you'll\",\n",
       " \"you're\",\n",
       " \"you've\",\n",
       " 'your',\n",
       " 'yours',\n",
       " 'yourself',\n",
       " 'yourselves'}"
      ]
     },
     "execution_count": 8,
     "metadata": {},
     "output_type": "execute_result"
    }
   ],
   "source": [
    "stopword = set(stopwords.words('english')) \n",
    "stopword"
   ]
  },
  {
   "cell_type": "code",
   "execution_count": 9,
   "id": "c1fa1963",
   "metadata": {},
   "outputs": [
    {
     "data": {
      "text/plain": [
       "'!\"#$%&\\'()*+,-./:;<=>?@[\\\\]^_`{|}~'"
      ]
     },
     "execution_count": 9,
     "metadata": {},
     "output_type": "execute_result"
    }
   ],
   "source": [
    "string.punctuation"
   ]
  },
  {
   "cell_type": "markdown",
   "id": "9d0243d4",
   "metadata": {},
   "source": [
    "# Text preprocessing"
   ]
  },
  {
   "cell_type": "code",
   "execution_count": 10,
   "id": "9fb75fec",
   "metadata": {},
   "outputs": [],
   "source": [
    "def preprocess_text(text):\n",
    "    remove_punc = [char for char in text if char not in string.punctuation]\n",
    "    clean_words = ''.join(remove_punc) \n",
    "    \n",
    "    text = ([word for word in clean_words.split() if word.lower() not in stopword]) \n",
    "    return text"
   ]
  },
  {
   "cell_type": "code",
   "execution_count": 11,
   "id": "e308a43e",
   "metadata": {},
   "outputs": [
    {
     "data": {
      "text/plain": [
       "0        [one, best, apps, acording, bunch, people, agr...\n",
       "1        [pretty, good, version, game, free, LOTS, diff...\n",
       "2        [really, cool, game, bunch, levels, find, gold...\n",
       "3        [silly, game, frustrating, lots, fun, definite...\n",
       "4        [terrific, game, pad, Hrs, fun, grandkids, lov...\n",
       "                               ...                        \n",
       "19995    [app, fricken, stupidit, froze, kindle, wont, ...\n",
       "19996    [Please, add, need, neighbors, Ginger1016, tha...\n",
       "19997    [love, game, awesome, wish, free, stuff, house...\n",
       "19998    [love, love, love, app, side, fashion, story, ...\n",
       "19999    [game, rip, list, things, MAKE, BETTERbull, Fi...\n",
       "Name: reviewText, Length: 20000, dtype: object"
      ]
     },
     "execution_count": 11,
     "metadata": {},
     "output_type": "execute_result"
    }
   ],
   "source": [
    "df1[text_column] = df1[text_column].apply(preprocess_text)\n",
    "df1[text_column]"
   ]
  },
  {
   "cell_type": "markdown",
   "id": "0a0d8c4b",
   "metadata": {},
   "source": [
    "# Lemmatization"
   ]
  },
  {
   "cell_type": "code",
   "execution_count": 12,
   "id": "08500991",
   "metadata": {},
   "outputs": [
    {
     "data": {
      "text/plain": [
       "0        one best apps acording bunch people agree bomb...\n",
       "1        pretty good version game free LOTS different l...\n",
       "2        really cool game bunch level find golden egg s...\n",
       "3        silly game frustrating lot fun definitely reco...\n",
       "4        terrific game pad Hrs fun grandkids love Great...\n",
       "                               ...                        \n",
       "19995    app fricken stupidit froze kindle wont allow p...\n",
       "19996    Please add need neighbor Ginger1016 thanks bun...\n",
       "19997    love game awesome wish free stuff house didnt ...\n",
       "19998    love love love app side fashion story fight wo...\n",
       "19999    game rip list thing MAKE BETTERbull First NEED...\n",
       "Name: reviewText, Length: 20000, dtype: object"
      ]
     },
     "execution_count": 12,
     "metadata": {},
     "output_type": "execute_result"
    }
   ],
   "source": [
    "lm = WordNetLemmatizer()\n",
    "\n",
    "def lemmatize_text(text):\n",
    "    lemmatized_text = ' '.join([lm.lemmatize(word) for word in text])\n",
    "    return lemmatized_text\n",
    "\n",
    "df1[text_column] = df1[text_column].apply(lemmatize_text)\n",
    "df1[text_column]"
   ]
  },
  {
   "cell_type": "markdown",
   "id": "c2d4cb0c",
   "metadata": {},
   "source": [
    "# TF-IDF Vectorization"
   ]
  },
  {
   "cell_type": "code",
   "execution_count": 13,
   "id": "3047ceaf",
   "metadata": {},
   "outputs": [],
   "source": [
    "vectorizer = TfidfVectorizer()\n",
    "\n",
    "x = vectorizer.fit_transform(df1[text_column])\n",
    "y = df1[labels]"
   ]
  },
  {
   "cell_type": "code",
   "execution_count": 14,
   "id": "95963e44",
   "metadata": {},
   "outputs": [
    {
     "data": {
      "text/plain": [
       "<20000x22617 sparse matrix of type '<class 'numpy.float64'>'\n",
       "\twith 310882 stored elements in Compressed Sparse Row format>"
      ]
     },
     "execution_count": 14,
     "metadata": {},
     "output_type": "execute_result"
    }
   ],
   "source": [
    "x"
   ]
  },
  {
   "cell_type": "code",
   "execution_count": 15,
   "id": "39f883f9",
   "metadata": {},
   "outputs": [
    {
     "data": {
      "text/plain": [
       "array([[0., 0., 0., ..., 0., 0., 0.],\n",
       "       [0., 0., 0., ..., 0., 0., 0.],\n",
       "       [0., 0., 0., ..., 0., 0., 0.],\n",
       "       ...,\n",
       "       [0., 0., 0., ..., 0., 0., 0.],\n",
       "       [0., 0., 0., ..., 0., 0., 0.],\n",
       "       [0., 0., 0., ..., 0., 0., 0.]])"
      ]
     },
     "execution_count": 15,
     "metadata": {},
     "output_type": "execute_result"
    }
   ],
   "source": [
    "x.toarray()"
   ]
  },
  {
   "cell_type": "code",
   "execution_count": 16,
   "id": "e4bf9923",
   "metadata": {},
   "outputs": [],
   "source": [
    "xtrain, xtest, ytrain, ytest = train_test_split(x, y, test_size=0.3, random_state=42)"
   ]
  },
  {
   "cell_type": "code",
   "execution_count": 17,
   "id": "02e552f1",
   "metadata": {},
   "outputs": [
    {
     "name": "stdout",
     "output_type": "stream",
     "text": [
      "(14000, 22617) (14000,) (6000, 22617) (6000,)\n"
     ]
    }
   ],
   "source": [
    "print(xtrain.shape, ytrain.shape, xtest.shape, ytest.shape)"
   ]
  },
  {
   "cell_type": "code",
   "execution_count": 18,
   "id": "06149a4d",
   "metadata": {},
   "outputs": [],
   "source": [
    "def evaluate_model(model, xtest, ytest):\n",
    "    y_pred = model.predict(xtest)\n",
    "    accuracy = accuracy_score(ytest, y_pred)\n",
    "    cm = confusion_matrix(ytest, y_pred)\n",
    "    prob = model.predict_proba(xtest)[:, 1]\n",
    "    roc_auc = roc_auc_score(ytest, prob)\n",
    "    fpr, tpr, thresholds = roc_curve(ytest, prob)\n",
    "    precision, recall, _ = precision_recall_curve(ytest, prob)\n",
    "    pr_auc = auc(recall, precision)\n",
    "    \n",
    "    return {\n",
    "        'Accuracy': accuracy,\n",
    "        'Confusion Matrix': cm,\n",
    "    }"
   ]
  },
  {
   "cell_type": "markdown",
   "id": "bdf2ddbc",
   "metadata": {},
   "source": [
    "# Logistic Regression"
   ]
  },
  {
   "cell_type": "code",
   "execution_count": 19,
   "id": "396765c5",
   "metadata": {},
   "outputs": [
    {
     "data": {
      "text/plain": [
       "LogisticRegression()"
      ]
     },
     "execution_count": 19,
     "metadata": {},
     "output_type": "execute_result"
    }
   ],
   "source": [
    "lr = LogisticRegression()\n",
    "lr"
   ]
  },
  {
   "cell_type": "code",
   "execution_count": 20,
   "id": "dd8d6ce1",
   "metadata": {},
   "outputs": [
    {
     "data": {
      "text/plain": [
       "LogisticRegression()"
      ]
     },
     "execution_count": 20,
     "metadata": {},
     "output_type": "execute_result"
    }
   ],
   "source": [
    "lr.fit(xtrain, ytrain)"
   ]
  },
  {
   "cell_type": "code",
   "execution_count": 21,
   "id": "b186bb7b",
   "metadata": {},
   "outputs": [
    {
     "data": {
      "text/plain": [
       "{'Accuracy': 0.8843333333333333,\n",
       " 'Confusion Matrix': array([[ 852,  559],\n",
       "        [ 135, 4454]], dtype=int64)}"
      ]
     },
     "execution_count": 21,
     "metadata": {},
     "output_type": "execute_result"
    }
   ],
   "source": [
    "lr_results = evaluate_model(lr, xtest, ytest)\n",
    "lr_results"
   ]
  },
  {
   "cell_type": "code",
   "execution_count": 22,
   "id": "10d9577f",
   "metadata": {},
   "outputs": [
    {
     "data": {
      "text/plain": [
       "array([[ 852,  559],\n",
       "       [ 135, 4454]], dtype=int64)"
      ]
     },
     "execution_count": 22,
     "metadata": {},
     "output_type": "execute_result"
    }
   ],
   "source": [
    "cm_lr = confusion_matrix(ytest, lr.predict(xtest))\n",
    "cm_lr"
   ]
  },
  {
   "cell_type": "code",
   "execution_count": 23,
   "id": "7adba9a1",
   "metadata": {},
   "outputs": [
    {
     "data": {
      "image/png": "[encoded data removed]",
      "text/plain": [
       "<Figure size 800x600 with 2 Axes>"
      ]
     },
     "metadata": {},
     "output_type": "display_data"
    }
   ],
   "source": [
    "plt.figure(figsize=(8, 6))\n",
    "sns.heatmap(cm_lr, annot=True, fmt='d', cmap='Blues',\n",
    "            xticklabels=['Predicted 0', 'Predicted 1'],\n",
    "            yticklabels=['Actual 0', 'Actual 1'])\n",
    "plt.xlabel('Predicted')\n",
    "plt.ylabel('Actual')\n",
    "plt.title('Confusion Matrix of Logistic Regression')\n",
    "plt.show()"
   ]
  },
  {
   "cell_type": "code",
   "execution_count": 24,
   "id": "ca56fac0",
   "metadata": {},
   "outputs": [
    {
     "name": "stdout",
     "output_type": "stream",
     "text": [
      "              precision    recall  f1-score   support\n",
      "\n",
      "           0       0.86      0.60      0.71      1411\n",
      "           1       0.89      0.97      0.93      4589\n",
      "\n",
      "    accuracy                           0.88      6000\n",
      "   macro avg       0.88      0.79      0.82      6000\n",
      "weighted avg       0.88      0.88      0.88      6000\n",
      "\n"
     ]
    }
   ],
   "source": [
    "print(classification_report(ytest, lr.predict(xtest)))"
   ]
  },
  {
   "cell_type": "markdown",
   "id": "c1fc95b1",
   "metadata": {},
   "source": [
    "# Random Forest"
   ]
  },
  {
   "cell_type": "code",
   "execution_count": 25,
   "id": "44c418a1",
   "metadata": {},
   "outputs": [
    {
     "data": {
      "text/plain": [
       "RandomForestClassifier()"
      ]
     },
     "execution_count": 25,
     "metadata": {},
     "output_type": "execute_result"
    }
   ],
   "source": [
    "rfc = RandomForestClassifier()\n",
    "rfc.fit(xtrain, ytrain)"
   ]
  },
  {
   "cell_type": "code",
   "execution_count": 26,
   "id": "37b0566c",
   "metadata": {},
   "outputs": [
    {
     "data": {
      "text/plain": [
       "{'Accuracy': 0.8621666666666666,\n",
       " 'Confusion Matrix': array([[ 702,  709],\n",
       "        [ 118, 4471]], dtype=int64)}"
      ]
     },
     "execution_count": 26,
     "metadata": {},
     "output_type": "execute_result"
    }
   ],
   "source": [
    "rfc_results = evaluate_model(rfc, xtest, ytest)\n",
    "rfc_results"
   ]
  },
  {
   "cell_type": "code",
   "execution_count": 27,
   "id": "e2de8569",
   "metadata": {},
   "outputs": [
    {
     "data": {
      "text/plain": [
       "array([[ 702,  709],\n",
       "       [ 118, 4471]], dtype=int64)"
      ]
     },
     "execution_count": 27,
     "metadata": {},
     "output_type": "execute_result"
    }
   ],
   "source": [
    "cm_rfc = confusion_matrix(ytest, rfc.predict(xtest))\n",
    "cm_rfc"
   ]
  },
  {
   "cell_type": "code",
   "execution_count": 28,
   "id": "4a161272",
   "metadata": {},
   "outputs": [
    {
     "data": {
      "image/png": "[encoded data removed]",
      "text/plain": [
       "<Figure size 800x600 with 2 Axes>"
      ]
     },
     "metadata": {},
     "output_type": "display_data"
    }
   ],
   "source": [
    "plt.figure(figsize=(8, 6))\n",
    "sns.heatmap(cm_rfc, annot=True, fmt='d', cmap='Blues',\n",
    "            xticklabels=['Predicted 0', 'Predicted 1'],\n",
    "            yticklabels=['Actual 0', 'Actual 1'])\n",
    "plt.xlabel('Predicted')\n",
    "plt.ylabel('Actual')\n",
    "plt.title('Confusion Matrix of Random Forest')\n",
    "plt.show()"
   ]
  },
  {
   "cell_type": "code",
   "execution_count": 29,
   "id": "ae2d84c2",
   "metadata": {},
   "outputs": [
    {
     "data": {
      "text/plain": [
       "0.8621666666666666"
      ]
     },
     "execution_count": 29,
     "metadata": {},
     "output_type": "execute_result"
    }
   ],
   "source": [
    "rfc.score(xtest, ytest)"
   ]
  },
  {
   "cell_type": "code",
   "execution_count": 30,
   "id": "10e18f0f",
   "metadata": {},
   "outputs": [
    {
     "name": "stdout",
     "output_type": "stream",
     "text": [
      "              precision    recall  f1-score   support\n",
      "\n",
      "           0       0.86      0.50      0.63      1411\n",
      "           1       0.86      0.97      0.92      4589\n",
      "\n",
      "    accuracy                           0.86      6000\n",
      "   macro avg       0.86      0.74      0.77      6000\n",
      "weighted avg       0.86      0.86      0.85      6000\n",
      "\n"
     ]
    }
   ],
   "source": [
    "print(classification_report(ytest, rfc.predict(xtest)))"
   ]
  },
  {
   "cell_type": "markdown",
   "id": "7b424cae",
   "metadata": {},
   "source": [
    "# Naive Bayes"
   ]
  },
  {
   "cell_type": "code",
   "execution_count": 31,
   "id": "2d827d39",
   "metadata": {},
   "outputs": [
    {
     "data": {
      "text/plain": [
       "MultinomialNB()"
      ]
     },
     "execution_count": 31,
     "metadata": {},
     "output_type": "execute_result"
    }
   ],
   "source": [
    "mnb = MultinomialNB(alpha=1.0, fit_prior=True, class_prior=None)\n",
    "mnb.fit(xtrain, ytrain)"
   ]
  },
  {
   "cell_type": "code",
   "execution_count": 32,
   "id": "5c8bce17",
   "metadata": {},
   "outputs": [
    {
     "data": {
      "text/plain": [
       "{'Accuracy': 0.7873333333333333,\n",
       " 'Confusion Matrix': array([[ 149, 1262],\n",
       "        [  14, 4575]], dtype=int64)}"
      ]
     },
     "execution_count": 32,
     "metadata": {},
     "output_type": "execute_result"
    }
   ],
   "source": [
    "mnb_results = evaluate_model(mnb, xtest, ytest)\n",
    "mnb_results"
   ]
  },
  {
   "cell_type": "code",
   "execution_count": 33,
   "id": "30f10a80",
   "metadata": {},
   "outputs": [
    {
     "data": {
      "text/plain": [
       "array([[ 149, 1262],\n",
       "       [  14, 4575]], dtype=int64)"
      ]
     },
     "execution_count": 33,
     "metadata": {},
     "output_type": "execute_result"
    }
   ],
   "source": [
    "cm_mnb = confusion_matrix(ytest, mnb.predict(xtest))\n",
    "cm_mnb"
   ]
  },
  {
   "cell_type": "code",
   "execution_count": 34,
   "id": "4028d266",
   "metadata": {},
   "outputs": [
    {
     "data": {
      "image/png": "[encoded data removed]",
      "text/plain": [
       "<Figure size 800x600 with 2 Axes>"
      ]
     },
     "metadata": {},
     "output_type": "display_data"
    }
   ],
   "source": [
    "plt.figure(figsize=(8, 6))\n",
    "sns.heatmap(cm_mnb, annot=True, fmt='d', cmap='Blues',\n",
    "            xticklabels=['Predicted 0', 'Predicted 1'],\n",
    "            yticklabels=['Actual 0', 'Actual 1'])\n",
    "plt.xlabel('Predicted')\n",
    "plt.ylabel('Actual')\n",
    "plt.title('Confusion Matrix')\n",
    "plt.show()"
   ]
  },
  {
   "cell_type": "code",
   "execution_count": 35,
   "id": "623dac9e",
   "metadata": {},
   "outputs": [
    {
     "name": "stdout",
     "output_type": "stream",
     "text": [
      "              precision    recall  f1-score   support\n",
      "\n",
      "           0       0.91      0.11      0.19      1411\n",
      "           1       0.78      1.00      0.88      4589\n",
      "\n",
      "    accuracy                           0.79      6000\n",
      "   macro avg       0.85      0.55      0.53      6000\n",
      "weighted avg       0.81      0.79      0.72      6000\n",
      "\n"
     ]
    }
   ],
   "source": [
    "print(classification_report(ytest, mnb.predict(xtest)))"
   ]
  },
  {
   "cell_type": "code",
   "execution_count": 36,
   "id": "cec21a22",
   "metadata": {},
   "outputs": [
    {
     "data": {
      "text/plain": [
       "0.7873333333333333"
      ]
     },
     "execution_count": 36,
     "metadata": {},
     "output_type": "execute_result"
    }
   ],
   "source": [
    "mnb.score(xtest, ytest)"
   ]
  },
  {
   "cell_type": "markdown",
   "id": "739b4f57",
   "metadata": {},
   "source": [
    "# Hyperparameter Tuning with Random Search (Random Forest)"
   ]
  },
  {
   "cell_type": "code",
   "execution_count": 37,
   "id": "83c99276",
   "metadata": {},
   "outputs": [],
   "source": [
    "rfc_params = {\n",
    "  'n_estimators': [10, 50, 100, 200],\n",
    "  'max_depth': [3, 5, 7],\n",
    "  'min_samples_split': [2, 5, 10],\n",
    "  'min_samples_leaf': [1, 2, 4],\n",
    "  'max_features': ['auto', 'sqrt', 'log2'],\n",
    "  'bootstrap': [True, False],\n",
    "}"
   ]
  },
  {
   "cell_type": "code",
   "execution_count": 38,
   "id": "6b263f65",
   "metadata": {},
   "outputs": [
    {
     "data": {
      "text/plain": [
       "RandomizedSearchCV(cv=5, estimator=RandomForestClassifier(), n_iter=5,\n",
       "                   n_jobs=-1,\n",
       "                   param_distributions={'bootstrap': [True, False],\n",
       "                                        'max_depth': [3, 5, 7],\n",
       "                                        'max_features': ['auto', 'sqrt',\n",
       "                                                         'log2'],\n",
       "                                        'min_samples_leaf': [1, 2, 4],\n",
       "                                        'min_samples_split': [2, 5, 10],\n",
       "                                        'n_estimators': [10, 50, 100, 200]},\n",
       "                   random_state=42)"
      ]
     },
     "execution_count": 38,
     "metadata": {},
     "output_type": "execute_result"
    }
   ],
   "source": [
    "random_search = RandomizedSearchCV(estimator=rfc, param_distributions=rfc_params, n_iter=5, cv=5, random_state=42, n_jobs=-1)\n",
    "random_search.fit(xtrain, ytrain)"
   ]
  },
  {
   "cell_type": "code",
   "execution_count": 39,
   "id": "136c5557",
   "metadata": {},
   "outputs": [
    {
     "name": "stdout",
     "output_type": "stream",
     "text": [
      "Best Parameters:  {'n_estimators': 100, 'min_samples_split': 5, 'min_samples_leaf': 4, 'max_features': 'log2', 'max_depth': 3, 'bootstrap': True}\n",
      "Best Accuracy:  0.7602857142857143\n"
     ]
    }
   ],
   "source": [
    "print(\"Best Parameters: \", random_search.best_params_)\n",
    "print(\"Best Accuracy: \", random_search.best_score_)"
   ]
  },
  {
   "cell_type": "markdown",
   "id": "3f7d93b4",
   "metadata": {},
   "source": [
    "# Reasons behind on choosen Hyperparameters"
   ]
  },
  {
   "cell_type": "markdown",
   "id": "68f7fad4",
   "metadata": {},
   "source": [
    "Here's a concise explanation of the chosen hyperparameters and their reasoning for my Sentiment Analysis project:-\n",
    "\n",
    "i) Number of trees (n_estimators): Exploring different quantities to balance accuracy and complexity. More trees often improve performance but increase training time.\n",
    "\n",
    "ii) Tree depth (max_depth): Limiting depth to prevent overfitting, as excessively deep trees can memorize noise instead of generalizing well.\n",
    "\n",
    "iii) Split requirements (min_samples_split, min_samples_leaf): Setting minimum sample thresholds to control tree growth and reduce overfitting. Higher values make trees more conservative in splitting, ensuring patterns are based on sufficient data.\n",
    "\n",
    "iv) Feature sampling (max_features): Experimenting with strategies to diversify trees and prevent reliance on a few dominant features. This can improve model robustness.\n",
    "\n",
    "v) Bootstrapping (bootstrap): Evaluating both with and without to assess its impact on accuracy and diversity. Bootstrapping involves sampling data with replacement, potentially reducing model variance but also increasing randomness.\n",
    "\n",
    "Essentially, I'm carefully tuning these hyperparameters to find the optimal balance between complexity, accuracy, and generalization for your Random Forest model in the context of my NLP project."
   ]
  },
  {
   "cell_type": "markdown",
   "id": "a018454c",
   "metadata": {},
   "source": [
    "# Comparative Analysis"
   ]
  },
  {
   "cell_type": "markdown",
   "id": "c35f8131",
   "metadata": {},
   "source": [
    "Here highest accuracy gain by using Logistic Regression model. The accuracy is 88%.\n",
    "Here's a discussion of the strengths and weaknesses of each model in the context of sentiment analysis:-\n",
    "\n",
    "Linear Regression:\n",
    "\n",
    "Strengths:\n",
    "i) Simple and interpretable.\n",
    "ii) Efficient to train.\n",
    "\n",
    "Weaknesses:\n",
    "i) Assumes linear relationships, which might not hold for sentiment.\n",
    "ii) Sensitive to outliers and noise in text data.\n",
    "\n",
    "Random Forest Classifier:\n",
    "\n",
    "Strengths:\n",
    "i) Handles non-linear relationships and interactions between features.\n",
    "ii) Robust to outliers and noise.\n",
    "iii) Can capture complex patterns in text without explicit feature engineering.\n",
    "\n",
    "Weaknesses:\n",
    "i) Less interpretable than linear regression, harder to understand feature importance.\n",
    "ii) Can be computationally expensive to train, especially with large datasets.\n",
    "\n",
    "Naive Bayes Classifier:\n",
    "\n",
    "Strengths:\n",
    "i) Very efficient to train and make predictions.\n",
    "ii) Handles high-dimensional data like text well.\n",
    "iii) Performs surprisingly well in many sentiment analysis tasks.\n",
    "\n",
    "Weaknesses:\n",
    "i) Assumes strong independence between features, which might not hold in text.\n",
    "ii) Can be sensitive to the presence of unusual words or features.\n",
    "iii) Might not capture complex semantic relationships between words.\n"
   ]
  },
  {
   "cell_type": "markdown",
   "id": "31e8270a",
   "metadata": {},
   "source": [
    "# Conclusion"
   ]
  },
  {
   "cell_type": "markdown",
   "id": "690b851c",
   "metadata": {},
   "source": [
    "In conclusion, The sentiment analysis machine learning project has successfully navigated the intricate landscape of natural language processing to discern and classify sentiments within textual data. Employing advanced algorithms and leveraging a diverse dataset, I have developed a robust model capable of accurately predicting sentiment across a range of contexts.\n",
    "Through comprehensive evaluation and testing, our sentiment analysis model has demonstrated a high level of accuracy and reliability in discerning sentiment polarity, providing a practical tool for businesses to gauge customer feedback and sentiment on various platforms.\n",
    "This sentiment analysis project serves as a testament to the growing importance of machine learning applications in deciphering complex human emotions through text, and it paves the way for further innovations in understanding and leveraging sentiment for improved decision-making and user experience in diverse industries."
   ]
  }
 ],
 "metadata": {
  "kernelspec": {
   "display_name": "Python 3 (ipykernel)",
   "language": "python",
   "name": "python3"
  },
  "language_info": {
   "codemirror_mode": {
    "name": "ipython",
    "version": 3
   },
   "file_extension": ".py",
   "mimetype": "text/x-python",
   "name": "python",
   "nbconvert_exporter": "python",
   "pygments_lexer": "ipython3",
   "version": "3.9.13"
  }
 },
 "nbformat": 4,
 "nbformat_minor": 5
}
