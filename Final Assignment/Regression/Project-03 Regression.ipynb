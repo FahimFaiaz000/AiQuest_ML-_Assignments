{
 "cells": [
  {
   "cell_type": "markdown",
   "id": "362f786e",
   "metadata": {},
   "source": [
    "# Import libraries"
   ]
  },
  {
   "cell_type": "code",
   "execution_count": 1,
   "id": "378d9b0e",
   "metadata": {},
   "outputs": [],
   "source": [
    "import numpy as np \n",
    "import pandas as pd \n",
    "from math import sqrt\n",
    "from sklearn.preprocessing import MinMaxScaler\n",
    "from sklearn.model_selection import train_test_split\n",
    "from sklearn.linear_model import LinearRegression\n",
    "from sklearn.ensemble import RandomForestRegressor\n",
    "from sklearn.ensemble import GradientBoostingRegressor\n",
    "from sklearn.metrics import mean_squared_error\n",
    "from sklearn.metrics import mean_absolute_error\n",
    "from sklearn.metrics import r2_score\n",
    "from sklearn.model_selection import GridSearchCV"
   ]
  },
  {
   "cell_type": "markdown",
   "id": "b62beec8",
   "metadata": {},
   "source": [
    "# Load the dataset"
   ]
  },
  {
   "cell_type": "code",
   "execution_count": 2,
   "id": "e7853f3a",
   "metadata": {},
   "outputs": [
    {
     "data": {
      "text/html": [
       "<div>\n",
       "<style scoped>\n",
       "    .dataframe tbody tr th:only-of-type {\n",
       "        vertical-align: middle;\n",
       "    }\n",
       "\n",
       "    .dataframe tbody tr th {\n",
       "        vertical-align: top;\n",
       "    }\n",
       "\n",
       "    .dataframe thead th {\n",
       "        text-align: right;\n",
       "    }\n",
       "</style>\n",
       "<table border=\"1\" class=\"dataframe\">\n",
       "  <thead>\n",
       "    <tr style=\"text-align: right;\">\n",
       "      <th></th>\n",
       "      <th>Cement (component 1)(kg in a m^3 mixture)</th>\n",
       "      <th>Blast Furnace Slag (component 2)(kg in a m^3 mixture)</th>\n",
       "      <th>Fly Ash (component 3)(kg in a m^3 mixture)</th>\n",
       "      <th>Water  (component 4)(kg in a m^3 mixture)</th>\n",
       "      <th>Superplasticizer (component 5)(kg in a m^3 mixture)</th>\n",
       "      <th>Coarse Aggregate  (component 6)(kg in a m^3 mixture)</th>\n",
       "      <th>Fine Aggregate (component 7)(kg in a m^3 mixture)</th>\n",
       "      <th>Age (day)</th>\n",
       "      <th>strength</th>\n",
       "    </tr>\n",
       "  </thead>\n",
       "  <tbody>\n",
       "    <tr>\n",
       "      <th>0</th>\n",
       "      <td>540.0</td>\n",
       "      <td>0.0</td>\n",
       "      <td>0.0</td>\n",
       "      <td>162.0</td>\n",
       "      <td>2.5</td>\n",
       "      <td>1040.0</td>\n",
       "      <td>676.0</td>\n",
       "      <td>28</td>\n",
       "      <td>79.99</td>\n",
       "    </tr>\n",
       "    <tr>\n",
       "      <th>1</th>\n",
       "      <td>540.0</td>\n",
       "      <td>0.0</td>\n",
       "      <td>0.0</td>\n",
       "      <td>162.0</td>\n",
       "      <td>2.5</td>\n",
       "      <td>1055.0</td>\n",
       "      <td>676.0</td>\n",
       "      <td>28</td>\n",
       "      <td>61.89</td>\n",
       "    </tr>\n",
       "    <tr>\n",
       "      <th>2</th>\n",
       "      <td>332.5</td>\n",
       "      <td>142.5</td>\n",
       "      <td>0.0</td>\n",
       "      <td>228.0</td>\n",
       "      <td>0.0</td>\n",
       "      <td>932.0</td>\n",
       "      <td>594.0</td>\n",
       "      <td>270</td>\n",
       "      <td>40.27</td>\n",
       "    </tr>\n",
       "    <tr>\n",
       "      <th>3</th>\n",
       "      <td>332.5</td>\n",
       "      <td>142.5</td>\n",
       "      <td>0.0</td>\n",
       "      <td>228.0</td>\n",
       "      <td>0.0</td>\n",
       "      <td>932.0</td>\n",
       "      <td>594.0</td>\n",
       "      <td>365</td>\n",
       "      <td>41.05</td>\n",
       "    </tr>\n",
       "    <tr>\n",
       "      <th>4</th>\n",
       "      <td>198.6</td>\n",
       "      <td>132.4</td>\n",
       "      <td>0.0</td>\n",
       "      <td>192.0</td>\n",
       "      <td>0.0</td>\n",
       "      <td>978.4</td>\n",
       "      <td>825.5</td>\n",
       "      <td>360</td>\n",
       "      <td>44.30</td>\n",
       "    </tr>\n",
       "    <tr>\n",
       "      <th>5</th>\n",
       "      <td>266.0</td>\n",
       "      <td>114.0</td>\n",
       "      <td>0.0</td>\n",
       "      <td>228.0</td>\n",
       "      <td>0.0</td>\n",
       "      <td>932.0</td>\n",
       "      <td>670.0</td>\n",
       "      <td>90</td>\n",
       "      <td>47.03</td>\n",
       "    </tr>\n",
       "    <tr>\n",
       "      <th>6</th>\n",
       "      <td>380.0</td>\n",
       "      <td>95.0</td>\n",
       "      <td>0.0</td>\n",
       "      <td>228.0</td>\n",
       "      <td>0.0</td>\n",
       "      <td>932.0</td>\n",
       "      <td>594.0</td>\n",
       "      <td>365</td>\n",
       "      <td>43.70</td>\n",
       "    </tr>\n",
       "    <tr>\n",
       "      <th>7</th>\n",
       "      <td>380.0</td>\n",
       "      <td>95.0</td>\n",
       "      <td>0.0</td>\n",
       "      <td>228.0</td>\n",
       "      <td>0.0</td>\n",
       "      <td>932.0</td>\n",
       "      <td>594.0</td>\n",
       "      <td>28</td>\n",
       "      <td>36.45</td>\n",
       "    </tr>\n",
       "    <tr>\n",
       "      <th>8</th>\n",
       "      <td>266.0</td>\n",
       "      <td>114.0</td>\n",
       "      <td>0.0</td>\n",
       "      <td>228.0</td>\n",
       "      <td>0.0</td>\n",
       "      <td>932.0</td>\n",
       "      <td>670.0</td>\n",
       "      <td>28</td>\n",
       "      <td>45.85</td>\n",
       "    </tr>\n",
       "    <tr>\n",
       "      <th>9</th>\n",
       "      <td>475.0</td>\n",
       "      <td>0.0</td>\n",
       "      <td>0.0</td>\n",
       "      <td>228.0</td>\n",
       "      <td>0.0</td>\n",
       "      <td>932.0</td>\n",
       "      <td>594.0</td>\n",
       "      <td>28</td>\n",
       "      <td>39.29</td>\n",
       "    </tr>\n",
       "  </tbody>\n",
       "</table>\n",
       "</div>"
      ],
      "text/plain": [
       "   Cement (component 1)(kg in a m^3 mixture)  \\\n",
       "0                                      540.0   \n",
       "1                                      540.0   \n",
       "2                                      332.5   \n",
       "3                                      332.5   \n",
       "4                                      198.6   \n",
       "5                                      266.0   \n",
       "6                                      380.0   \n",
       "7                                      380.0   \n",
       "8                                      266.0   \n",
       "9                                      475.0   \n",
       "\n",
       "   Blast Furnace Slag (component 2)(kg in a m^3 mixture)  \\\n",
       "0                                                0.0       \n",
       "1                                                0.0       \n",
       "2                                              142.5       \n",
       "3                                              142.5       \n",
       "4                                              132.4       \n",
       "5                                              114.0       \n",
       "6                                               95.0       \n",
       "7                                               95.0       \n",
       "8                                              114.0       \n",
       "9                                                0.0       \n",
       "\n",
       "   Fly Ash (component 3)(kg in a m^3 mixture)  \\\n",
       "0                                         0.0   \n",
       "1                                         0.0   \n",
       "2                                         0.0   \n",
       "3                                         0.0   \n",
       "4                                         0.0   \n",
       "5                                         0.0   \n",
       "6                                         0.0   \n",
       "7                                         0.0   \n",
       "8                                         0.0   \n",
       "9                                         0.0   \n",
       "\n",
       "   Water  (component 4)(kg in a m^3 mixture)  \\\n",
       "0                                      162.0   \n",
       "1                                      162.0   \n",
       "2                                      228.0   \n",
       "3                                      228.0   \n",
       "4                                      192.0   \n",
       "5                                      228.0   \n",
       "6                                      228.0   \n",
       "7                                      228.0   \n",
       "8                                      228.0   \n",
       "9                                      228.0   \n",
       "\n",
       "   Superplasticizer (component 5)(kg in a m^3 mixture)  \\\n",
       "0                                                2.5     \n",
       "1                                                2.5     \n",
       "2                                                0.0     \n",
       "3                                                0.0     \n",
       "4                                                0.0     \n",
       "5                                                0.0     \n",
       "6                                                0.0     \n",
       "7                                                0.0     \n",
       "8                                                0.0     \n",
       "9                                                0.0     \n",
       "\n",
       "   Coarse Aggregate  (component 6)(kg in a m^3 mixture)  \\\n",
       "0                                             1040.0      \n",
       "1                                             1055.0      \n",
       "2                                              932.0      \n",
       "3                                              932.0      \n",
       "4                                              978.4      \n",
       "5                                              932.0      \n",
       "6                                              932.0      \n",
       "7                                              932.0      \n",
       "8                                              932.0      \n",
       "9                                              932.0      \n",
       "\n",
       "   Fine Aggregate (component 7)(kg in a m^3 mixture)  Age (day)  strength  \n",
       "0                                              676.0         28     79.99  \n",
       "1                                              676.0         28     61.89  \n",
       "2                                              594.0        270     40.27  \n",
       "3                                              594.0        365     41.05  \n",
       "4                                              825.5        360     44.30  \n",
       "5                                              670.0         90     47.03  \n",
       "6                                              594.0        365     43.70  \n",
       "7                                              594.0         28     36.45  \n",
       "8                                              670.0         28     45.85  \n",
       "9                                              594.0         28     39.29  "
      ]
     },
     "execution_count": 2,
     "metadata": {},
     "output_type": "execute_result"
    }
   ],
   "source": [
    "df = pd.read_csv(\"concrete.csv\")\n",
    "df.head(10)"
   ]
  },
  {
   "cell_type": "markdown",
   "id": "7d80ce8f",
   "metadata": {},
   "source": [
    "# Data Preprocessing"
   ]
  },
  {
   "cell_type": "code",
   "execution_count": 3,
   "id": "e1ad9942",
   "metadata": {},
   "outputs": [],
   "source": [
    "df1 = df.copy()"
   ]
  },
  {
   "cell_type": "code",
   "execution_count": 4,
   "id": "fdefc0d3",
   "metadata": {},
   "outputs": [
    {
     "data": {
      "text/plain": [
       "Cement (component 1)(kg in a m^3 mixture)                0\n",
       "Blast Furnace Slag (component 2)(kg in a m^3 mixture)    0\n",
       "Fly Ash (component 3)(kg in a m^3 mixture)               0\n",
       "Water  (component 4)(kg in a m^3 mixture)                0\n",
       "Superplasticizer (component 5)(kg in a m^3 mixture)      0\n",
       "Coarse Aggregate  (component 6)(kg in a m^3 mixture)     0\n",
       "Fine Aggregate (component 7)(kg in a m^3 mixture)        0\n",
       "Age (day)                                                0\n",
       "strength                                                 0\n",
       "dtype: int64"
      ]
     },
     "execution_count": 4,
     "metadata": {},
     "output_type": "execute_result"
    }
   ],
   "source": [
    "df1.isnull().sum()"
   ]
  },
  {
   "cell_type": "code",
   "execution_count": 5,
   "id": "7188f1f6",
   "metadata": {},
   "outputs": [
    {
     "data": {
      "text/html": [
       "<div>\n",
       "<style scoped>\n",
       "    .dataframe tbody tr th:only-of-type {\n",
       "        vertical-align: middle;\n",
       "    }\n",
       "\n",
       "    .dataframe tbody tr th {\n",
       "        vertical-align: top;\n",
       "    }\n",
       "\n",
       "    .dataframe thead th {\n",
       "        text-align: right;\n",
       "    }\n",
       "</style>\n",
       "<table border=\"1\" class=\"dataframe\">\n",
       "  <thead>\n",
       "    <tr style=\"text-align: right;\">\n",
       "      <th></th>\n",
       "      <th>Cement (component 1)(kg in a m^3 mixture)</th>\n",
       "      <th>Blast Furnace Slag (component 2)(kg in a m^3 mixture)</th>\n",
       "      <th>Fly Ash (component 3)(kg in a m^3 mixture)</th>\n",
       "      <th>Water  (component 4)(kg in a m^3 mixture)</th>\n",
       "      <th>Superplasticizer (component 5)(kg in a m^3 mixture)</th>\n",
       "      <th>Coarse Aggregate  (component 6)(kg in a m^3 mixture)</th>\n",
       "      <th>Fine Aggregate (component 7)(kg in a m^3 mixture)</th>\n",
       "      <th>Age (day)</th>\n",
       "      <th>strength</th>\n",
       "    </tr>\n",
       "  </thead>\n",
       "  <tbody>\n",
       "    <tr>\n",
       "      <th>count</th>\n",
       "      <td>1030.000000</td>\n",
       "      <td>1030.000000</td>\n",
       "      <td>1030.000000</td>\n",
       "      <td>1030.000000</td>\n",
       "      <td>1030.000000</td>\n",
       "      <td>1030.000000</td>\n",
       "      <td>1030.000000</td>\n",
       "      <td>1030.000000</td>\n",
       "      <td>1030.000000</td>\n",
       "    </tr>\n",
       "    <tr>\n",
       "      <th>mean</th>\n",
       "      <td>281.167864</td>\n",
       "      <td>73.895825</td>\n",
       "      <td>54.188350</td>\n",
       "      <td>181.567282</td>\n",
       "      <td>6.204660</td>\n",
       "      <td>972.918932</td>\n",
       "      <td>773.580485</td>\n",
       "      <td>45.662136</td>\n",
       "      <td>35.817961</td>\n",
       "    </tr>\n",
       "    <tr>\n",
       "      <th>std</th>\n",
       "      <td>104.506364</td>\n",
       "      <td>86.279342</td>\n",
       "      <td>63.997004</td>\n",
       "      <td>21.354219</td>\n",
       "      <td>5.973841</td>\n",
       "      <td>77.753954</td>\n",
       "      <td>80.175980</td>\n",
       "      <td>63.169912</td>\n",
       "      <td>16.705742</td>\n",
       "    </tr>\n",
       "    <tr>\n",
       "      <th>min</th>\n",
       "      <td>102.000000</td>\n",
       "      <td>0.000000</td>\n",
       "      <td>0.000000</td>\n",
       "      <td>121.800000</td>\n",
       "      <td>0.000000</td>\n",
       "      <td>801.000000</td>\n",
       "      <td>594.000000</td>\n",
       "      <td>1.000000</td>\n",
       "      <td>2.330000</td>\n",
       "    </tr>\n",
       "    <tr>\n",
       "      <th>25%</th>\n",
       "      <td>192.375000</td>\n",
       "      <td>0.000000</td>\n",
       "      <td>0.000000</td>\n",
       "      <td>164.900000</td>\n",
       "      <td>0.000000</td>\n",
       "      <td>932.000000</td>\n",
       "      <td>730.950000</td>\n",
       "      <td>7.000000</td>\n",
       "      <td>23.710000</td>\n",
       "    </tr>\n",
       "    <tr>\n",
       "      <th>50%</th>\n",
       "      <td>272.900000</td>\n",
       "      <td>22.000000</td>\n",
       "      <td>0.000000</td>\n",
       "      <td>185.000000</td>\n",
       "      <td>6.400000</td>\n",
       "      <td>968.000000</td>\n",
       "      <td>779.500000</td>\n",
       "      <td>28.000000</td>\n",
       "      <td>34.445000</td>\n",
       "    </tr>\n",
       "    <tr>\n",
       "      <th>75%</th>\n",
       "      <td>350.000000</td>\n",
       "      <td>142.950000</td>\n",
       "      <td>118.300000</td>\n",
       "      <td>192.000000</td>\n",
       "      <td>10.200000</td>\n",
       "      <td>1029.400000</td>\n",
       "      <td>824.000000</td>\n",
       "      <td>56.000000</td>\n",
       "      <td>46.135000</td>\n",
       "    </tr>\n",
       "    <tr>\n",
       "      <th>max</th>\n",
       "      <td>540.000000</td>\n",
       "      <td>359.400000</td>\n",
       "      <td>200.100000</td>\n",
       "      <td>247.000000</td>\n",
       "      <td>32.200000</td>\n",
       "      <td>1145.000000</td>\n",
       "      <td>992.600000</td>\n",
       "      <td>365.000000</td>\n",
       "      <td>82.600000</td>\n",
       "    </tr>\n",
       "  </tbody>\n",
       "</table>\n",
       "</div>"
      ],
      "text/plain": [
       "       Cement (component 1)(kg in a m^3 mixture)  \\\n",
       "count                                1030.000000   \n",
       "mean                                  281.167864   \n",
       "std                                   104.506364   \n",
       "min                                   102.000000   \n",
       "25%                                   192.375000   \n",
       "50%                                   272.900000   \n",
       "75%                                   350.000000   \n",
       "max                                   540.000000   \n",
       "\n",
       "       Blast Furnace Slag (component 2)(kg in a m^3 mixture)  \\\n",
       "count                                        1030.000000       \n",
       "mean                                           73.895825       \n",
       "std                                            86.279342       \n",
       "min                                             0.000000       \n",
       "25%                                             0.000000       \n",
       "50%                                            22.000000       \n",
       "75%                                           142.950000       \n",
       "max                                           359.400000       \n",
       "\n",
       "       Fly Ash (component 3)(kg in a m^3 mixture)  \\\n",
       "count                                 1030.000000   \n",
       "mean                                    54.188350   \n",
       "std                                     63.997004   \n",
       "min                                      0.000000   \n",
       "25%                                      0.000000   \n",
       "50%                                      0.000000   \n",
       "75%                                    118.300000   \n",
       "max                                    200.100000   \n",
       "\n",
       "       Water  (component 4)(kg in a m^3 mixture)  \\\n",
       "count                                1030.000000   \n",
       "mean                                  181.567282   \n",
       "std                                    21.354219   \n",
       "min                                   121.800000   \n",
       "25%                                   164.900000   \n",
       "50%                                   185.000000   \n",
       "75%                                   192.000000   \n",
       "max                                   247.000000   \n",
       "\n",
       "       Superplasticizer (component 5)(kg in a m^3 mixture)  \\\n",
       "count                                        1030.000000     \n",
       "mean                                            6.204660     \n",
       "std                                             5.973841     \n",
       "min                                             0.000000     \n",
       "25%                                             0.000000     \n",
       "50%                                             6.400000     \n",
       "75%                                            10.200000     \n",
       "max                                            32.200000     \n",
       "\n",
       "       Coarse Aggregate  (component 6)(kg in a m^3 mixture)  \\\n",
       "count                                        1030.000000      \n",
       "mean                                          972.918932      \n",
       "std                                            77.753954      \n",
       "min                                           801.000000      \n",
       "25%                                           932.000000      \n",
       "50%                                           968.000000      \n",
       "75%                                          1029.400000      \n",
       "max                                          1145.000000      \n",
       "\n",
       "       Fine Aggregate (component 7)(kg in a m^3 mixture)    Age (day)  \\\n",
       "count                                        1030.000000  1030.000000   \n",
       "mean                                          773.580485    45.662136   \n",
       "std                                            80.175980    63.169912   \n",
       "min                                           594.000000     1.000000   \n",
       "25%                                           730.950000     7.000000   \n",
       "50%                                           779.500000    28.000000   \n",
       "75%                                           824.000000    56.000000   \n",
       "max                                           992.600000   365.000000   \n",
       "\n",
       "          strength  \n",
       "count  1030.000000  \n",
       "mean     35.817961  \n",
       "std      16.705742  \n",
       "min       2.330000  \n",
       "25%      23.710000  \n",
       "50%      34.445000  \n",
       "75%      46.135000  \n",
       "max      82.600000  "
      ]
     },
     "execution_count": 5,
     "metadata": {},
     "output_type": "execute_result"
    }
   ],
   "source": [
    "df1.describe()"
   ]
  },
  {
   "cell_type": "code",
   "execution_count": 6,
   "id": "2d9ec5a3",
   "metadata": {},
   "outputs": [],
   "source": [
    "x = df1.drop('strength', axis=1)\n",
    "y = df1['strength']"
   ]
  },
  {
   "cell_type": "code",
   "execution_count": 7,
   "id": "91a17738",
   "metadata": {},
   "outputs": [
    {
     "data": {
      "text/plain": [
       "(1030, 8)"
      ]
     },
     "execution_count": 7,
     "metadata": {},
     "output_type": "execute_result"
    }
   ],
   "source": [
    "x.shape"
   ]
  },
  {
   "cell_type": "code",
   "execution_count": 8,
   "id": "d7bde74b",
   "metadata": {},
   "outputs": [
    {
     "data": {
      "text/plain": [
       "(1030,)"
      ]
     },
     "execution_count": 8,
     "metadata": {},
     "output_type": "execute_result"
    }
   ],
   "source": [
    "y.shape"
   ]
  },
  {
   "cell_type": "code",
   "execution_count": 9,
   "id": "ead786f9",
   "metadata": {},
   "outputs": [],
   "source": [
    "x1 = x.copy()"
   ]
  },
  {
   "cell_type": "markdown",
   "id": "c733568f",
   "metadata": {},
   "source": [
    "# Applied Normalization"
   ]
  },
  {
   "cell_type": "code",
   "execution_count": 10,
   "id": "1023df69",
   "metadata": {},
   "outputs": [],
   "source": [
    "m = MinMaxScaler()"
   ]
  },
  {
   "cell_type": "code",
   "execution_count": 11,
   "id": "9c8758ba",
   "metadata": {},
   "outputs": [
    {
     "data": {
      "text/html": [
       "<div>\n",
       "<style scoped>\n",
       "    .dataframe tbody tr th:only-of-type {\n",
       "        vertical-align: middle;\n",
       "    }\n",
       "\n",
       "    .dataframe tbody tr th {\n",
       "        vertical-align: top;\n",
       "    }\n",
       "\n",
       "    .dataframe thead th {\n",
       "        text-align: right;\n",
       "    }\n",
       "</style>\n",
       "<table border=\"1\" class=\"dataframe\">\n",
       "  <thead>\n",
       "    <tr style=\"text-align: right;\">\n",
       "      <th></th>\n",
       "      <th>Cement (component 1)(kg in a m^3 mixture)</th>\n",
       "      <th>Blast Furnace Slag (component 2)(kg in a m^3 mixture)</th>\n",
       "      <th>Fly Ash (component 3)(kg in a m^3 mixture)</th>\n",
       "      <th>Water  (component 4)(kg in a m^3 mixture)</th>\n",
       "      <th>Superplasticizer (component 5)(kg in a m^3 mixture)</th>\n",
       "      <th>Coarse Aggregate  (component 6)(kg in a m^3 mixture)</th>\n",
       "      <th>Fine Aggregate (component 7)(kg in a m^3 mixture)</th>\n",
       "      <th>Age (day)</th>\n",
       "    </tr>\n",
       "  </thead>\n",
       "  <tbody>\n",
       "    <tr>\n",
       "      <th>0</th>\n",
       "      <td>1.000000</td>\n",
       "      <td>0.000000</td>\n",
       "      <td>0.0</td>\n",
       "      <td>0.321086</td>\n",
       "      <td>0.07764</td>\n",
       "      <td>0.694767</td>\n",
       "      <td>0.205720</td>\n",
       "      <td>0.074176</td>\n",
       "    </tr>\n",
       "    <tr>\n",
       "      <th>1</th>\n",
       "      <td>1.000000</td>\n",
       "      <td>0.000000</td>\n",
       "      <td>0.0</td>\n",
       "      <td>0.321086</td>\n",
       "      <td>0.07764</td>\n",
       "      <td>0.738372</td>\n",
       "      <td>0.205720</td>\n",
       "      <td>0.074176</td>\n",
       "    </tr>\n",
       "    <tr>\n",
       "      <th>2</th>\n",
       "      <td>0.526256</td>\n",
       "      <td>0.396494</td>\n",
       "      <td>0.0</td>\n",
       "      <td>0.848243</td>\n",
       "      <td>0.00000</td>\n",
       "      <td>0.380814</td>\n",
       "      <td>0.000000</td>\n",
       "      <td>0.739011</td>\n",
       "    </tr>\n",
       "    <tr>\n",
       "      <th>3</th>\n",
       "      <td>0.526256</td>\n",
       "      <td>0.396494</td>\n",
       "      <td>0.0</td>\n",
       "      <td>0.848243</td>\n",
       "      <td>0.00000</td>\n",
       "      <td>0.380814</td>\n",
       "      <td>0.000000</td>\n",
       "      <td>1.000000</td>\n",
       "    </tr>\n",
       "    <tr>\n",
       "      <th>4</th>\n",
       "      <td>0.220548</td>\n",
       "      <td>0.368392</td>\n",
       "      <td>0.0</td>\n",
       "      <td>0.560703</td>\n",
       "      <td>0.00000</td>\n",
       "      <td>0.515698</td>\n",
       "      <td>0.580783</td>\n",
       "      <td>0.986264</td>\n",
       "    </tr>\n",
       "  </tbody>\n",
       "</table>\n",
       "</div>"
      ],
      "text/plain": [
       "   Cement (component 1)(kg in a m^3 mixture)  \\\n",
       "0                                   1.000000   \n",
       "1                                   1.000000   \n",
       "2                                   0.526256   \n",
       "3                                   0.526256   \n",
       "4                                   0.220548   \n",
       "\n",
       "   Blast Furnace Slag (component 2)(kg in a m^3 mixture)  \\\n",
       "0                                           0.000000       \n",
       "1                                           0.000000       \n",
       "2                                           0.396494       \n",
       "3                                           0.396494       \n",
       "4                                           0.368392       \n",
       "\n",
       "   Fly Ash (component 3)(kg in a m^3 mixture)  \\\n",
       "0                                         0.0   \n",
       "1                                         0.0   \n",
       "2                                         0.0   \n",
       "3                                         0.0   \n",
       "4                                         0.0   \n",
       "\n",
       "   Water  (component 4)(kg in a m^3 mixture)  \\\n",
       "0                                   0.321086   \n",
       "1                                   0.321086   \n",
       "2                                   0.848243   \n",
       "3                                   0.848243   \n",
       "4                                   0.560703   \n",
       "\n",
       "   Superplasticizer (component 5)(kg in a m^3 mixture)  \\\n",
       "0                                            0.07764     \n",
       "1                                            0.07764     \n",
       "2                                            0.00000     \n",
       "3                                            0.00000     \n",
       "4                                            0.00000     \n",
       "\n",
       "   Coarse Aggregate  (component 6)(kg in a m^3 mixture)  \\\n",
       "0                                           0.694767      \n",
       "1                                           0.738372      \n",
       "2                                           0.380814      \n",
       "3                                           0.380814      \n",
       "4                                           0.515698      \n",
       "\n",
       "   Fine Aggregate (component 7)(kg in a m^3 mixture)  Age (day)  \n",
       "0                                           0.205720   0.074176  \n",
       "1                                           0.205720   0.074176  \n",
       "2                                           0.000000   0.739011  \n",
       "3                                           0.000000   1.000000  \n",
       "4                                           0.580783   0.986264  "
      ]
     },
     "execution_count": 11,
     "metadata": {},
     "output_type": "execute_result"
    }
   ],
   "source": [
    "for col in x1.columns:\n",
    "    if x1[col].dtype == object:\n",
    "        continue\n",
    "    else:\n",
    "        m.fit(x1[[col]])\n",
    "        x1[col] = m.transform(x1[[col]])\n",
    "x1.head()"
   ]
  },
  {
   "cell_type": "code",
   "execution_count": 12,
   "id": "51869b8a",
   "metadata": {},
   "outputs": [],
   "source": [
    "xtrain, xtest, ytrain, ytest = train_test_split(x1, y, test_size = 0.25, random_state = 42)"
   ]
  },
  {
   "cell_type": "markdown",
   "id": "0bbfd822",
   "metadata": {},
   "source": [
    "# Linear Regression"
   ]
  },
  {
   "cell_type": "code",
   "execution_count": 13,
   "id": "d7b4e531",
   "metadata": {},
   "outputs": [
    {
     "data": {
      "text/plain": [
       "LinearRegression()"
      ]
     },
     "execution_count": 13,
     "metadata": {},
     "output_type": "execute_result"
    }
   ],
   "source": [
    "lr = LinearRegression()\n",
    "lr.fit(xtrain, ytrain)"
   ]
  },
  {
   "cell_type": "code",
   "execution_count": 14,
   "id": "822056a9",
   "metadata": {},
   "outputs": [
    {
     "data": {
      "text/plain": [
       "array([59.09859859, 51.97626903, 63.39987251, 51.51583827, 17.12396228,\n",
       "       39.46825434, 26.47328415, 44.77707843, 29.63067645, 37.93010481,\n",
       "       27.84279166, 19.54919141, 66.81785117, 52.21871581, 29.94676466,\n",
       "       44.21751379, 29.05701223, 26.44812644, 31.8806001 , 32.08771228,\n",
       "       36.75906521, 31.75134132, 38.19736284, 25.03844605, 32.90412121,\n",
       "       34.07945783, 14.68126718, 40.1256464 , 41.83896327, 21.28573033,\n",
       "       35.7901225 , 30.79342806, 43.52433084, 45.50471383, 30.83600058,\n",
       "       29.33637776, 29.14495057, 38.51494716, 20.28393646, 38.56343404,\n",
       "       21.44355934, 15.88160473, 31.0992574 , 50.83828591, 20.63781584,\n",
       "       57.51048796, 50.65118732, 60.43076193, 20.18038732, 19.23597556,\n",
       "       40.20407262, 35.99947786, 29.66275818, 33.40748214, 46.74268335,\n",
       "       51.40978041, 28.0191688 , 16.01632264, 29.95463362, 18.43777596,\n",
       "       38.28982944, 20.06239506, 31.80326173, 55.46866206, 22.9228481 ,\n",
       "       21.31872757, 32.0692182 , 16.74554006, 25.70845259, 25.86659364,\n",
       "       17.84136298, 18.5558084 , 13.24490758, 27.79361218, 28.31322507,\n",
       "       20.36040383, 59.48918407, 44.5763007 , 54.25611871, 24.03059833,\n",
       "       43.94422864, 48.68078091, 32.08468576, 28.19353602, 68.12766917,\n",
       "       51.51583827, 34.32657578, 33.15241144, 26.88576597, 21.90400042,\n",
       "       26.92640271, 60.73133632, 24.13660383, 41.95617553, 39.25599808,\n",
       "       47.38219711, 28.05659423, 28.47193333, 27.08522273, 28.77614728,\n",
       "       30.44792376, 39.37763425, 45.85628288, 28.99251887, 76.94732786,\n",
       "       14.58624568, 41.21903421, 29.48096259, 33.55120961, 49.83028869,\n",
       "       64.66361278, 39.24230717, 26.91911628, 34.1838721 , 46.90017783,\n",
       "       55.687012  , 22.36673096, 40.61179234, 42.67863961, 39.28241845,\n",
       "       34.34180373, 23.25927658, 37.61285772, 28.00700775, 25.49486674,\n",
       "       31.72028893, 48.54192393, 54.98670093, 36.09690605, 31.99566875,\n",
       "       15.90222291, 34.4077842 , 14.80883001, 60.16488512, 14.6128627 ,\n",
       "       57.19243865, 26.300809  , 33.29516857, 32.3761724 , 33.46114948,\n",
       "       29.22487563, 32.86206925, 28.68058007, 26.65201491, 46.64182393,\n",
       "       36.5532213 , 27.79935504, 18.69447764, 19.82350571, 19.80866329,\n",
       "       36.01929186, 25.1139006 , 47.50880846, 27.61336797, 38.25604209,\n",
       "       33.96567437, 27.61475837, 67.64980041, 51.97626903, 40.13112602,\n",
       "       21.54531916, 58.44134821, 33.36283987, 49.33512452, 54.52627017,\n",
       "       52.54045462, 37.44951822, 25.66387898, 50.04673521, 33.61163254,\n",
       "       36.30651396, 25.69639372, 23.43834014, 34.19899734, 39.38102087,\n",
       "       20.52067401, 23.31944842, 39.51156236, 40.35395128, 41.6597914 ,\n",
       "       35.70977451, 26.2572127 , 49.72483738, 42.28036127, 37.21696018,\n",
       "       48.55395356, 21.50281227, 31.39251269, 46.65725394, 21.28244787,\n",
       "       47.0483777 , 37.51262928, 35.88190358, 47.74147428, 54.91389123,\n",
       "       31.3197729 , 40.43997549, 25.23181983, 22.39790058, 21.96645289,\n",
       "       38.22573415, 55.687012  , 17.49055494, 49.02457873, 53.38175107,\n",
       "       31.30009933, 34.1045647 , 48.88259533, 33.42882172, 31.93212094,\n",
       "       27.0905962 , 26.91573935, 25.07658529, 35.47135959, 30.05952485,\n",
       "       12.88480229, 19.26601094, 30.49840194, 23.17248479, 54.39353052,\n",
       "       48.55824528, 50.43181437, 49.31743931, 17.04326349, 40.09387719,\n",
       "       37.12023271, 31.64727865, 23.32079448, 25.98264227, 30.63032292,\n",
       "       22.09282847, 27.9995695 , 31.15366868, 36.08142838, 36.11580519,\n",
       "       39.13583935, 48.22035015, 28.38381183, 34.78128762, 25.61958138,\n",
       "       27.40734813, 37.51124279, 70.05740587, 20.42362276, 65.13770799,\n",
       "       35.03041566, 58.69362466, 16.34306056, 48.94453904, 60.62697772,\n",
       "       32.61069385, 34.38984241, 35.96331224, 26.73161831, 33.98249411,\n",
       "       26.26725833, 28.8628011 , 31.10480187])"
      ]
     },
     "execution_count": 14,
     "metadata": {},
     "output_type": "execute_result"
    }
   ],
   "source": [
    "ypred1 = lr.predict(xtest)\n",
    "ypred1"
   ]
  },
  {
   "cell_type": "code",
   "execution_count": 15,
   "id": "a809e553",
   "metadata": {},
   "outputs": [
    {
     "data": {
      "text/plain": [
       "0.6099072868226489"
      ]
     },
     "execution_count": 15,
     "metadata": {},
     "output_type": "execute_result"
    }
   ],
   "source": [
    "lr.score(xtrain, ytrain)"
   ]
  },
  {
   "cell_type": "code",
   "execution_count": 16,
   "id": "024b4841",
   "metadata": {},
   "outputs": [
    {
     "data": {
      "text/plain": [
       "0.6249829353885574"
      ]
     },
     "execution_count": 16,
     "metadata": {},
     "output_type": "execute_result"
    }
   ],
   "source": [
    "lr.score(xtest, ytest)"
   ]
  },
  {
   "cell_type": "markdown",
   "id": "d989728e",
   "metadata": {},
   "source": [
    "# Random Forest"
   ]
  },
  {
   "cell_type": "code",
   "execution_count": 17,
   "id": "7c3359ec",
   "metadata": {},
   "outputs": [
    {
     "data": {
      "text/plain": [
       "RandomForestRegressor()"
      ]
     },
     "execution_count": 17,
     "metadata": {},
     "output_type": "execute_result"
    }
   ],
   "source": [
    "rf = RandomForestRegressor()\n",
    "rf.fit(xtrain, ytrain)"
   ]
  },
  {
   "cell_type": "code",
   "execution_count": 18,
   "id": "5b3d1b7a",
   "metadata": {},
   "outputs": [
    {
     "data": {
      "text/plain": [
       "array([51.7677    , 39.752     , 72.0797    , 34.7157    , 11.6844    ,\n",
       "       44.3465    , 24.593     , 47.4667    , 35.8479    , 42.0349    ,\n",
       "       40.9161    , 16.5403    , 39.242     , 36.6874    , 24.4288    ,\n",
       "       23.0635    , 38.2432    , 18.1692    , 38.3774    , 31.4374    ,\n",
       "       36.2854    , 36.2754    , 45.7129    , 10.7772    , 34.5202    ,\n",
       "       37.9444    , 11.3854    , 45.0399    , 53.7431    , 14.611     ,\n",
       "       61.2266    , 34.1811    , 41.3641    , 46.1804    , 18.6616    ,\n",
       "       39.5868    , 35.2933    , 44.5758    ,  9.6715    , 51.1208    ,\n",
       "       16.047     ,  6.2635    , 40.0659    , 48.7507    , 12.7546    ,\n",
       "       65.3616    , 52.86565833, 33.5199    , 26.6673    ,  8.9335    ,\n",
       "       55.5573    , 44.4205    , 26.6544    , 17.8486    , 45.9052    ,\n",
       "       34.9508    , 27.0334    , 12.0979    , 35.776     , 19.9446    ,\n",
       "       44.7102    , 14.0968    , 35.7127    , 51.06783333, 32.1173    ,\n",
       "       27.4283    , 35.9702    , 13.7235    , 31.0047    , 23.5758    ,\n",
       "       12.2764    , 28.3087    ,  8.9397    , 40.9209    , 27.1012    ,\n",
       "       11.1705    , 51.5817    , 50.5152    , 56.9296    ,  9.5529    ,\n",
       "       38.9344    , 46.3576    , 37.7475    , 39.1114    , 41.9161    ,\n",
       "       34.7157    , 37.7354    , 35.1399    , 24.822     , 22.3273    ,\n",
       "       32.1931    , 71.4438    , 13.1638    , 54.9732    , 39.2322    ,\n",
       "       47.5343    , 22.1825    , 37.6523    , 20.5278    , 32.4715    ,\n",
       "       31.45343333, 42.5982    , 36.1215    , 23.7369    , 68.5768    ,\n",
       "       11.9361    , 53.1343    , 30.9063    , 40.1442    , 61.3533    ,\n",
       "       39.3766    , 48.5578    , 25.3408    , 40.561     , 34.68257714,\n",
       "       55.39967833, 19.6726    , 35.0436    , 57.1039    , 39.3409    ,\n",
       "       19.6995    , 27.1706    , 52.7819    , 30.6899    , 27.9508    ,\n",
       "       42.925     , 49.7774    , 48.91333333, 43.8576    , 35.1016    ,\n",
       "       12.0263    , 35.97175714, 20.1487    , 68.515     , 10.1106    ,\n",
       "       41.2747    , 32.3662    , 39.4693    , 21.62233333, 33.535     ,\n",
       "       28.4731    , 33.2586    , 15.4027    , 32.5254    , 43.8883    ,\n",
       "       42.1721    , 28.3496    , 14.8635    ,  7.0255    , 17.8133    ,\n",
       "       42.1935    , 24.7443    , 41.36418   , 22.0913    , 42.6359    ,\n",
       "       40.376     , 27.4221    , 69.8712    , 39.752     , 47.2461    ,\n",
       "       13.7145    , 59.0902    , 35.3025    , 52.0234    , 33.9421    ,\n",
       "       65.2399    , 41.7173    , 22.9677    , 39.24620667, 21.1953    ,\n",
       "       44.8119    , 11.2205    , 23.9534    , 37.6054    , 34.7409    ,\n",
       "       11.9858    , 31.8325    , 46.7167    , 47.4168    , 37.0238    ,\n",
       "       31.4922    , 25.5559    , 61.3893    , 33.8828    , 38.3854    ,\n",
       "       50.5768    , 22.9817    , 35.4308    , 29.4718    , 15.5033    ,\n",
       "       25.83907778, 38.6079    , 39.7924    , 38.86063333, 28.2652    ,\n",
       "       27.7279    , 43.1227    , 24.984     , 23.3028    , 28.5843    ,\n",
       "       39.8227    , 55.39967833, 24.7257    , 34.9554    , 64.9485    ,\n",
       "       35.2817    , 30.5917    , 59.6019    , 21.84876667, 35.7167    ,\n",
       "       15.5671    , 30.7997    , 20.1599    , 44.5826    , 42.2718    ,\n",
       "        5.3413    , 13.5558    , 37.5235    , 23.7018    , 71.2853    ,\n",
       "       29.24635   , 54.9937    , 59.005     , 18.0472    , 44.8915    ,\n",
       "       22.7805    , 46.5539    , 21.7024    , 22.3656    , 29.4675    ,\n",
       "       13.11403333, 13.7465    , 39.9561    , 43.7502    , 34.3872    ,\n",
       "       33.2007    , 32.85994444, 33.6577    , 47.6333    , 14.7271    ,\n",
       "       31.0306    , 41.1486    , 52.4563    , 33.1355    , 65.3387    ,\n",
       "       33.2787    , 69.824     , 21.7589    , 52.153     , 64.1194    ,\n",
       "       35.777     , 41.6999    , 39.4282    , 29.6584    , 39.3065    ,\n",
       "       14.8634    , 33.0255    , 17.00833333])"
      ]
     },
     "execution_count": 18,
     "metadata": {},
     "output_type": "execute_result"
    }
   ],
   "source": [
    "ypred2 = rf.predict(xtest)\n",
    "ypred2"
   ]
  },
  {
   "cell_type": "code",
   "execution_count": 19,
   "id": "01646fcc",
   "metadata": {},
   "outputs": [
    {
     "data": {
      "text/plain": [
       "0.9850248244289491"
      ]
     },
     "execution_count": 19,
     "metadata": {},
     "output_type": "execute_result"
    }
   ],
   "source": [
    "rf.score(xtrain, ytrain)"
   ]
  },
  {
   "cell_type": "code",
   "execution_count": 20,
   "id": "933fe431",
   "metadata": {},
   "outputs": [
    {
     "data": {
      "text/plain": [
       "0.8881757199749859"
      ]
     },
     "execution_count": 20,
     "metadata": {},
     "output_type": "execute_result"
    }
   ],
   "source": [
    "rf.score(xtest, ytest)"
   ]
  },
  {
   "cell_type": "markdown",
   "id": "26390f71",
   "metadata": {},
   "source": [
    "# Gradient Boosting"
   ]
  },
  {
   "cell_type": "code",
   "execution_count": 21,
   "id": "c0350961",
   "metadata": {},
   "outputs": [
    {
     "data": {
      "text/plain": [
       "GradientBoostingRegressor()"
      ]
     },
     "execution_count": 21,
     "metadata": {},
     "output_type": "execute_result"
    }
   ],
   "source": [
    "gbr = GradientBoostingRegressor()\n",
    "gbr.fit(xtrain, ytrain)"
   ]
  },
  {
   "cell_type": "code",
   "execution_count": 22,
   "id": "1a1728f2",
   "metadata": {},
   "outputs": [
    {
     "data": {
      "text/plain": [
       "array([48.79157614, 45.54661004, 70.55119948, 34.34700738, 12.57970481,\n",
       "       40.47818786, 25.31268308, 50.76967494, 31.93648745, 42.08529343,\n",
       "       38.8621663 , 16.88313428, 40.55450077, 42.63018298, 28.743147  ,\n",
       "       22.08468511, 36.66677553, 19.71221872, 38.36618599, 32.22510605,\n",
       "       39.06111309, 37.90260238, 47.62978022, 11.50798563, 36.89210508,\n",
       "       34.54191527,  9.9434678 , 45.54085556, 53.39123654, 13.45318438,\n",
       "       49.89658183, 35.97461115, 45.62408406, 56.81854747, 20.78863594,\n",
       "       35.58599082, 31.93648745, 40.82795462, 12.32251451, 48.22571786,\n",
       "       15.2637583 ,  8.42836211, 36.87536899, 50.82452212, 13.25731205,\n",
       "       75.04755107, 50.56520848, 34.83406847, 25.46069308,  9.35281935,\n",
       "       48.23671782, 40.44595022, 25.16715084, 18.93063112, 41.32776619,\n",
       "       34.83159316, 27.33408043,  9.9231908 , 36.95302139, 24.88275824,\n",
       "       40.82795462, 14.97638632, 37.65193371, 50.3932738 , 30.33028221,\n",
       "       25.47714514, 32.72309332, 17.08434351, 32.39431568, 23.90366913,\n",
       "       11.60872804, 27.75774062,  7.68690474, 38.8621663 , 27.04821187,\n",
       "       11.80772784, 49.58545467, 51.63631315, 52.50101904, 11.80951494,\n",
       "       35.0102211 , 46.36125503, 38.1586267 , 39.42332254, 41.01707537,\n",
       "       34.34700738, 34.40916587, 39.27484148, 28.99726436, 20.621892  ,\n",
       "       33.22284073, 69.4375338 , 11.51456028, 51.34342972, 40.73389482,\n",
       "       48.40862693, 25.69744285, 34.12751666, 24.35964127, 34.25965809,\n",
       "       31.89998273, 40.48719032, 39.20450436, 22.22254031, 71.35150428,\n",
       "        8.99596441, 53.01950472, 32.76702984, 36.0434034 , 56.97473765,\n",
       "       35.0102211 , 48.89290123, 26.31788428, 40.04163257, 37.75710863,\n",
       "       58.12238442, 16.74982854, 36.02954944, 57.3208685 , 40.73389482,\n",
       "       23.33009288, 30.04593434, 48.93141617, 37.09424371, 20.9617292 ,\n",
       "       45.01201301, 52.00060342, 49.14932167, 38.86484036, 37.31459056,\n",
       "       10.51908811, 36.18071214, 22.6487033 , 71.15807006,  8.81247811,\n",
       "       40.81732418, 31.43821331, 40.27705188, 22.13535075, 30.35546974,\n",
       "       30.25390588, 34.64301274, 16.00248549, 34.84716865, 47.92073161,\n",
       "       41.77221118, 28.2196103 , 16.80991801, 10.00591693, 15.82309007,\n",
       "       41.48305422, 18.98844796, 39.67168448, 22.08878516, 43.51511577,\n",
       "       38.19460066, 32.77658377, 72.75839664, 45.54661004, 42.60706283,\n",
       "       14.5710747 , 55.80931861, 35.27998547, 50.05259892, 34.29400574,\n",
       "       60.03853919, 43.33424919, 23.90366913, 42.74149456, 20.59711195,\n",
       "       42.97624749, 14.06376191, 21.40688163, 38.11953379, 33.1698284 ,\n",
       "       10.28383819, 30.51803067, 48.67907261, 42.01116553, 39.44324535,\n",
       "       30.82544991, 32.5163854 , 56.97473765, 39.4758198 , 43.78591726,\n",
       "       49.58545467, 26.17796899, 33.30497423, 29.34155182, 15.17357647,\n",
       "       27.11126641, 40.55369244, 41.73052927, 47.12501063, 30.62866742,\n",
       "       30.38130761, 53.72732516, 18.98844796, 20.48567335, 30.78840502,\n",
       "       44.17603068, 58.12238442, 24.83752087, 44.34092253, 62.28484077,\n",
       "       38.43134955, 28.94785385, 55.70418198, 24.78390486, 33.33371005,\n",
       "       13.99723767, 27.93718963, 26.57295732, 45.06257072, 39.50827084,\n",
       "        5.64639427, 16.80991801, 38.72772597, 23.19695729, 65.98106327,\n",
       "       29.94705376, 50.43626666, 55.05803641, 22.63511197, 46.94824505,\n",
       "       23.33009288, 45.6226325 , 23.73156935, 21.72480298, 29.38963876,\n",
       "       12.24769018, 14.66360968, 40.70522513, 38.86484036, 35.85519276,\n",
       "       34.83406847, 32.3345367 , 36.84770997, 44.78673872, 17.56991468,\n",
       "       32.107081  , 39.40127577, 49.31515593, 31.0108153 , 67.36753659,\n",
       "       33.1926849 , 71.10375148, 18.95160959, 50.15019853, 65.43266811,\n",
       "       37.18100454, 36.83022521, 42.20293317, 25.3473084 , 36.83022521,\n",
       "       16.75966806, 31.26796159, 17.90292473])"
      ]
     },
     "execution_count": 22,
     "metadata": {},
     "output_type": "execute_result"
    }
   ],
   "source": [
    "ypred3 = gbr.predict(xtest)\n",
    "ypred3"
   ]
  },
  {
   "cell_type": "code",
   "execution_count": 23,
   "id": "e37cb1a0",
   "metadata": {},
   "outputs": [
    {
     "data": {
      "text/plain": [
       "0.9473233609145324"
      ]
     },
     "execution_count": 23,
     "metadata": {},
     "output_type": "execute_result"
    }
   ],
   "source": [
    "gbr.score(xtrain, ytrain)"
   ]
  },
  {
   "cell_type": "code",
   "execution_count": 24,
   "id": "0ab7aad8",
   "metadata": {},
   "outputs": [
    {
     "data": {
      "text/plain": [
       "0.8876649792898443"
      ]
     },
     "execution_count": 24,
     "metadata": {},
     "output_type": "execute_result"
    }
   ],
   "source": [
    "gbr.score(xtest, ytest)"
   ]
  },
  {
   "cell_type": "markdown",
   "id": "ba15a915",
   "metadata": {},
   "source": [
    "# Evaluation Metrics"
   ]
  },
  {
   "cell_type": "code",
   "execution_count": 25,
   "id": "29a62d4b",
   "metadata": {},
   "outputs": [],
   "source": [
    "models = pd.DataFrame(columns=[\"Model\", \"MAE\", \"MSE\", \"r2 Score\", \"RMSE\"])"
   ]
  },
  {
   "cell_type": "code",
   "execution_count": 26,
   "id": "cbc86470",
   "metadata": {},
   "outputs": [
    {
     "name": "stdout",
     "output_type": "stream",
     "text": [
      "Mean Squared Error (MSE) of Linear Regression: 101.58139562951938\n",
      "Root Mean Squared Error (RMSE) of Linear Regression: 10.07875962752954\n",
      "Mean Absolute Error (MAE) of Linear Regression: 7.987048267733713\n",
      "R-squared (R2) Score of Linear Regression: 0.6249829353885574\n"
     ]
    },
    {
     "name": "stderr",
     "output_type": "stream",
     "text": [
      "C:\\Users\\fahim\\AppData\\Local\\Temp\\ipykernel_8100\\3682360161.py:11: FutureWarning: The frame.append method is deprecated and will be removed from pandas in a future version. Use pandas.concat instead.\n",
      "  models = models.append(new_row, ignore_index=True)\n"
     ]
    }
   ],
   "source": [
    "mse_test1 = mean_squared_error(ytest, ypred1)\n",
    "rmse_test1 = sqrt(mse_test1)\n",
    "mae_test1 = mean_absolute_error(ytest, ypred1)\n",
    "r2_test1 = r2_score(ytest, ypred1)\n",
    "print(\"Mean Squared Error (MSE) of Linear Regression:\", mse_test1)\n",
    "print(\"Root Mean Squared Error (RMSE) of Linear Regression:\", rmse_test1)\n",
    "print(\"Mean Absolute Error (MAE) of Linear Regression:\", mae_test1)\n",
    "print(\"R-squared (R2) Score of Linear Regression:\", r2_test1)\n",
    "\n",
    "new_row = {\"Model\": \"Linear Regression\",\"MAE\": mae_test1, \"MSE\": mse_test1, \"r2 Score\": r2_test1, \"RMSE\": rmse_test1}\n",
    "models = models.append(new_row, ignore_index=True)"
   ]
  },
  {
   "cell_type": "code",
   "execution_count": 27,
   "id": "48c0c613",
   "metadata": {},
   "outputs": [
    {
     "name": "stdout",
     "output_type": "stream",
     "text": [
      "Mean Squared Error (MSE) of Random Forest: 30.289998781726176\n",
      "Root Mean Squared Error (RMSE) of Random Forest: 5.50363505164779\n",
      "Mean Absolute Error (MAE) of Random Forest: 3.7622093567737203\n",
      "R-squared (R2) Score of Random Forest: 0.8881757199749859\n"
     ]
    },
    {
     "name": "stderr",
     "output_type": "stream",
     "text": [
      "C:\\Users\\fahim\\AppData\\Local\\Temp\\ipykernel_8100\\844649544.py:11: FutureWarning: The frame.append method is deprecated and will be removed from pandas in a future version. Use pandas.concat instead.\n",
      "  models = models.append(new_row, ignore_index=True)\n"
     ]
    }
   ],
   "source": [
    "mse_test2 = mean_squared_error(ytest, ypred2)\n",
    "rmse_test2 = sqrt(mse_test2)\n",
    "mae_test2 = mean_absolute_error(ytest, ypred2)\n",
    "r2_test2 = r2_score(ytest, ypred2)\n",
    "print(\"Mean Squared Error (MSE) of Random Forest:\", mse_test2)\n",
    "print(\"Root Mean Squared Error (RMSE) of Random Forest:\", rmse_test2)\n",
    "print(\"Mean Absolute Error (MAE) of Random Forest:\", mae_test2)\n",
    "print(\"R-squared (R2) Score of Random Forest:\", r2_test2)\n",
    "\n",
    "new_row = {\"Model\": \"Random Forest Regressor\",\"MAE\": mae_test2, \"MSE\": mse_test2, \"r2 Score\": r2_test2, \"RMSE\": rmse_test2}\n",
    "models = models.append(new_row, ignore_index=True)"
   ]
  },
  {
   "cell_type": "code",
   "execution_count": 28,
   "id": "7924d98b",
   "metadata": {},
   "outputs": [
    {
     "name": "stdout",
     "output_type": "stream",
     "text": [
      "Mean Squared Error (MSE) of Gradient Boosting: 30.42834382385169\n",
      "Root Mean Squared Error (RMSE) of Gradient Boosting: 5.516189248371713\n",
      "Mean Absolute Error (MAE) of Gradient Boosting: 4.1151631863120315\n",
      "R-squared (R2) Score of Gradient Boosting: 0.8876649792898443\n"
     ]
    },
    {
     "name": "stderr",
     "output_type": "stream",
     "text": [
      "C:\\Users\\fahim\\AppData\\Local\\Temp\\ipykernel_8100\\602836561.py:11: FutureWarning: The frame.append method is deprecated and will be removed from pandas in a future version. Use pandas.concat instead.\n",
      "  models = models.append(new_row, ignore_index=True)\n"
     ]
    }
   ],
   "source": [
    "mse_test3 = mean_squared_error(ytest, ypred3)\n",
    "rmse_test3 = sqrt(mse_test3)\n",
    "mae_test3 = mean_absolute_error(ytest, ypred3)\n",
    "r2_test3 = r2_score(ytest, ypred3)\n",
    "print(\"Mean Squared Error (MSE) of Gradient Boosting:\", mse_test3)\n",
    "print(\"Root Mean Squared Error (RMSE) of Gradient Boosting:\", rmse_test3)\n",
    "print(\"Mean Absolute Error (MAE) of Gradient Boosting:\", mae_test3)\n",
    "print(\"R-squared (R2) Score of Gradient Boosting:\", r2_test3)\n",
    "\n",
    "new_row = {\"Model\": \"Gradient Boosting Regressor\",\"MAE\": mae_test3, \"MSE\": mse_test3, \"r2 Score\": r2_test3, \"RMSE\": rmse_test3}\n",
    "models = models.append(new_row, ignore_index=True)"
   ]
  },
  {
   "cell_type": "markdown",
   "id": "047219ff",
   "metadata": {},
   "source": [
    "# Hyperparameter Tuning with Grid Search (Random Forest)"
   ]
  },
  {
   "cell_type": "code",
   "execution_count": 29,
   "id": "eb12a4ce",
   "metadata": {},
   "outputs": [],
   "source": [
    "rfr_params = {\n",
    "    'n_estimators': [10, 50, 100, 200],\n",
    "    'max_depth': [3, 5, 7],\n",
    "    'min_samples_split': [2, 5, 10],\n",
    "    'min_samples_leaf': [1, 2, 4],\n",
    "    'max_features': ['auto', 'sqrt', 'log2'],\n",
    "    'bootstrap': [True, False],\n",
    "}"
   ]
  },
  {
   "cell_type": "code",
   "execution_count": 30,
   "id": "6f1789c6",
   "metadata": {},
   "outputs": [
    {
     "data": {
      "text/plain": [
       "GridSearchCV(cv=5, estimator=RandomForestRegressor(),\n",
       "             param_grid={'bootstrap': [True, False], 'max_depth': [3, 5, 7],\n",
       "                         'max_features': ['auto', 'sqrt', 'log2'],\n",
       "                         'min_samples_leaf': [1, 2, 4],\n",
       "                         'min_samples_split': [2, 5, 10],\n",
       "                         'n_estimators': [10, 50, 100, 200]})"
      ]
     },
     "execution_count": 30,
     "metadata": {},
     "output_type": "execute_result"
    }
   ],
   "source": [
    "rfr_grid_search = GridSearchCV(estimator = rf, param_grid= rfr_params, cv=5)\n",
    "rfr_grid_search.fit(xtrain, ytrain)"
   ]
  },
  {
   "cell_type": "code",
   "execution_count": 31,
   "id": "5a3d8c50",
   "metadata": {},
   "outputs": [
    {
     "data": {
      "text/html": [
       "<div>\n",
       "<style scoped>\n",
       "    .dataframe tbody tr th:only-of-type {\n",
       "        vertical-align: middle;\n",
       "    }\n",
       "\n",
       "    .dataframe tbody tr th {\n",
       "        vertical-align: top;\n",
       "    }\n",
       "\n",
       "    .dataframe thead th {\n",
       "        text-align: right;\n",
       "    }\n",
       "</style>\n",
       "<table border=\"1\" class=\"dataframe\">\n",
       "  <thead>\n",
       "    <tr style=\"text-align: right;\">\n",
       "      <th></th>\n",
       "      <th>mean_fit_time</th>\n",
       "      <th>std_fit_time</th>\n",
       "      <th>mean_score_time</th>\n",
       "      <th>std_score_time</th>\n",
       "      <th>param_bootstrap</th>\n",
       "      <th>param_max_depth</th>\n",
       "      <th>param_max_features</th>\n",
       "      <th>param_min_samples_leaf</th>\n",
       "      <th>param_min_samples_split</th>\n",
       "      <th>param_n_estimators</th>\n",
       "      <th>params</th>\n",
       "      <th>split0_test_score</th>\n",
       "      <th>split1_test_score</th>\n",
       "      <th>split2_test_score</th>\n",
       "      <th>split3_test_score</th>\n",
       "      <th>split4_test_score</th>\n",
       "      <th>mean_test_score</th>\n",
       "      <th>std_test_score</th>\n",
       "      <th>rank_test_score</th>\n",
       "    </tr>\n",
       "  </thead>\n",
       "  <tbody>\n",
       "    <tr>\n",
       "      <th>0</th>\n",
       "      <td>0.034372</td>\n",
       "      <td>0.006261</td>\n",
       "      <td>0.006254</td>\n",
       "      <td>0.007659</td>\n",
       "      <td>True</td>\n",
       "      <td>3</td>\n",
       "      <td>auto</td>\n",
       "      <td>1</td>\n",
       "      <td>2</td>\n",
       "      <td>10</td>\n",
       "      <td>{'bootstrap': True, 'max_depth': 3, 'max_featu...</td>\n",
       "      <td>0.691008</td>\n",
       "      <td>0.704038</td>\n",
       "      <td>0.733788</td>\n",
       "      <td>0.610036</td>\n",
       "      <td>0.707650</td>\n",
       "      <td>0.689304</td>\n",
       "      <td>0.041997</td>\n",
       "      <td>461</td>\n",
       "    </tr>\n",
       "    <tr>\n",
       "      <th>1</th>\n",
       "      <td>0.141214</td>\n",
       "      <td>0.010873</td>\n",
       "      <td>0.009379</td>\n",
       "      <td>0.007658</td>\n",
       "      <td>True</td>\n",
       "      <td>3</td>\n",
       "      <td>auto</td>\n",
       "      <td>1</td>\n",
       "      <td>2</td>\n",
       "      <td>50</td>\n",
       "      <td>{'bootstrap': True, 'max_depth': 3, 'max_featu...</td>\n",
       "      <td>0.689403</td>\n",
       "      <td>0.693536</td>\n",
       "      <td>0.748767</td>\n",
       "      <td>0.647310</td>\n",
       "      <td>0.694631</td>\n",
       "      <td>0.694729</td>\n",
       "      <td>0.032244</td>\n",
       "      <td>454</td>\n",
       "    </tr>\n",
       "    <tr>\n",
       "      <th>2</th>\n",
       "      <td>0.283549</td>\n",
       "      <td>0.004642</td>\n",
       "      <td>0.018748</td>\n",
       "      <td>0.006248</td>\n",
       "      <td>True</td>\n",
       "      <td>3</td>\n",
       "      <td>auto</td>\n",
       "      <td>1</td>\n",
       "      <td>2</td>\n",
       "      <td>100</td>\n",
       "      <td>{'bootstrap': True, 'max_depth': 3, 'max_featu...</td>\n",
       "      <td>0.692267</td>\n",
       "      <td>0.702576</td>\n",
       "      <td>0.747823</td>\n",
       "      <td>0.635700</td>\n",
       "      <td>0.717668</td>\n",
       "      <td>0.699207</td>\n",
       "      <td>0.036870</td>\n",
       "      <td>438</td>\n",
       "    </tr>\n",
       "    <tr>\n",
       "      <th>3</th>\n",
       "      <td>0.578090</td>\n",
       "      <td>0.022100</td>\n",
       "      <td>0.034376</td>\n",
       "      <td>0.006248</td>\n",
       "      <td>True</td>\n",
       "      <td>3</td>\n",
       "      <td>auto</td>\n",
       "      <td>1</td>\n",
       "      <td>2</td>\n",
       "      <td>200</td>\n",
       "      <td>{'bootstrap': True, 'max_depth': 3, 'max_featu...</td>\n",
       "      <td>0.688891</td>\n",
       "      <td>0.693000</td>\n",
       "      <td>0.758384</td>\n",
       "      <td>0.635131</td>\n",
       "      <td>0.714308</td>\n",
       "      <td>0.697943</td>\n",
       "      <td>0.039931</td>\n",
       "      <td>443</td>\n",
       "    </tr>\n",
       "    <tr>\n",
       "      <th>4</th>\n",
       "      <td>0.031248</td>\n",
       "      <td>0.000014</td>\n",
       "      <td>0.003125</td>\n",
       "      <td>0.006249</td>\n",
       "      <td>True</td>\n",
       "      <td>3</td>\n",
       "      <td>auto</td>\n",
       "      <td>1</td>\n",
       "      <td>5</td>\n",
       "      <td>10</td>\n",
       "      <td>{'bootstrap': True, 'max_depth': 3, 'max_featu...</td>\n",
       "      <td>0.697871</td>\n",
       "      <td>0.687946</td>\n",
       "      <td>0.736954</td>\n",
       "      <td>0.624114</td>\n",
       "      <td>0.750498</td>\n",
       "      <td>0.699477</td>\n",
       "      <td>0.044324</td>\n",
       "      <td>436</td>\n",
       "    </tr>\n",
       "    <tr>\n",
       "      <th>...</th>\n",
       "      <td>...</td>\n",
       "      <td>...</td>\n",
       "      <td>...</td>\n",
       "      <td>...</td>\n",
       "      <td>...</td>\n",
       "      <td>...</td>\n",
       "      <td>...</td>\n",
       "      <td>...</td>\n",
       "      <td>...</td>\n",
       "      <td>...</td>\n",
       "      <td>...</td>\n",
       "      <td>...</td>\n",
       "      <td>...</td>\n",
       "      <td>...</td>\n",
       "      <td>...</td>\n",
       "      <td>...</td>\n",
       "      <td>...</td>\n",
       "      <td>...</td>\n",
       "      <td>...</td>\n",
       "    </tr>\n",
       "    <tr>\n",
       "      <th>643</th>\n",
       "      <td>0.481212</td>\n",
       "      <td>0.020725</td>\n",
       "      <td>0.037507</td>\n",
       "      <td>0.012494</td>\n",
       "      <td>False</td>\n",
       "      <td>7</td>\n",
       "      <td>log2</td>\n",
       "      <td>4</td>\n",
       "      <td>5</td>\n",
       "      <td>200</td>\n",
       "      <td>{'bootstrap': False, 'max_depth': 7, 'max_feat...</td>\n",
       "      <td>0.854049</td>\n",
       "      <td>0.853894</td>\n",
       "      <td>0.894016</td>\n",
       "      <td>0.836338</td>\n",
       "      <td>0.858066</td>\n",
       "      <td>0.859273</td>\n",
       "      <td>0.018925</td>\n",
       "      <td>58</td>\n",
       "    </tr>\n",
       "    <tr>\n",
       "      <th>644</th>\n",
       "      <td>0.031248</td>\n",
       "      <td>0.000014</td>\n",
       "      <td>0.000000</td>\n",
       "      <td>0.000000</td>\n",
       "      <td>False</td>\n",
       "      <td>7</td>\n",
       "      <td>log2</td>\n",
       "      <td>4</td>\n",
       "      <td>10</td>\n",
       "      <td>10</td>\n",
       "      <td>{'bootstrap': False, 'max_depth': 7, 'max_feat...</td>\n",
       "      <td>0.837447</td>\n",
       "      <td>0.845235</td>\n",
       "      <td>0.887698</td>\n",
       "      <td>0.811060</td>\n",
       "      <td>0.853473</td>\n",
       "      <td>0.846983</td>\n",
       "      <td>0.024837</td>\n",
       "      <td>90</td>\n",
       "    </tr>\n",
       "    <tr>\n",
       "      <th>645</th>\n",
       "      <td>0.121859</td>\n",
       "      <td>0.006256</td>\n",
       "      <td>0.009378</td>\n",
       "      <td>0.007657</td>\n",
       "      <td>False</td>\n",
       "      <td>7</td>\n",
       "      <td>log2</td>\n",
       "      <td>4</td>\n",
       "      <td>10</td>\n",
       "      <td>50</td>\n",
       "      <td>{'bootstrap': False, 'max_depth': 7, 'max_feat...</td>\n",
       "      <td>0.846678</td>\n",
       "      <td>0.862589</td>\n",
       "      <td>0.894053</td>\n",
       "      <td>0.833421</td>\n",
       "      <td>0.853645</td>\n",
       "      <td>0.858077</td>\n",
       "      <td>0.020357</td>\n",
       "      <td>62</td>\n",
       "    </tr>\n",
       "    <tr>\n",
       "      <th>646</th>\n",
       "      <td>0.262480</td>\n",
       "      <td>0.020732</td>\n",
       "      <td>0.028126</td>\n",
       "      <td>0.006251</td>\n",
       "      <td>False</td>\n",
       "      <td>7</td>\n",
       "      <td>log2</td>\n",
       "      <td>4</td>\n",
       "      <td>10</td>\n",
       "      <td>100</td>\n",
       "      <td>{'bootstrap': False, 'max_depth': 7, 'max_feat...</td>\n",
       "      <td>0.850054</td>\n",
       "      <td>0.855986</td>\n",
       "      <td>0.889704</td>\n",
       "      <td>0.835011</td>\n",
       "      <td>0.853290</td>\n",
       "      <td>0.856809</td>\n",
       "      <td>0.017977</td>\n",
       "      <td>64</td>\n",
       "    </tr>\n",
       "    <tr>\n",
       "      <th>647</th>\n",
       "      <td>0.480754</td>\n",
       "      <td>0.016287</td>\n",
       "      <td>0.040618</td>\n",
       "      <td>0.007667</td>\n",
       "      <td>False</td>\n",
       "      <td>7</td>\n",
       "      <td>log2</td>\n",
       "      <td>4</td>\n",
       "      <td>10</td>\n",
       "      <td>200</td>\n",
       "      <td>{'bootstrap': False, 'max_depth': 7, 'max_feat...</td>\n",
       "      <td>0.850937</td>\n",
       "      <td>0.858820</td>\n",
       "      <td>0.896136</td>\n",
       "      <td>0.837664</td>\n",
       "      <td>0.859319</td>\n",
       "      <td>0.860575</td>\n",
       "      <td>0.019427</td>\n",
       "      <td>51</td>\n",
       "    </tr>\n",
       "  </tbody>\n",
       "</table>\n",
       "<p>648 rows × 19 columns</p>\n",
       "</div>"
      ],
      "text/plain": [
       "     mean_fit_time  std_fit_time  mean_score_time  std_score_time  \\\n",
       "0         0.034372      0.006261         0.006254        0.007659   \n",
       "1         0.141214      0.010873         0.009379        0.007658   \n",
       "2         0.283549      0.004642         0.018748        0.006248   \n",
       "3         0.578090      0.022100         0.034376        0.006248   \n",
       "4         0.031248      0.000014         0.003125        0.006249   \n",
       "..             ...           ...              ...             ...   \n",
       "643       0.481212      0.020725         0.037507        0.012494   \n",
       "644       0.031248      0.000014         0.000000        0.000000   \n",
       "645       0.121859      0.006256         0.009378        0.007657   \n",
       "646       0.262480      0.020732         0.028126        0.006251   \n",
       "647       0.480754      0.016287         0.040618        0.007667   \n",
       "\n",
       "    param_bootstrap param_max_depth param_max_features param_min_samples_leaf  \\\n",
       "0              True               3               auto                      1   \n",
       "1              True               3               auto                      1   \n",
       "2              True               3               auto                      1   \n",
       "3              True               3               auto                      1   \n",
       "4              True               3               auto                      1   \n",
       "..              ...             ...                ...                    ...   \n",
       "643           False               7               log2                      4   \n",
       "644           False               7               log2                      4   \n",
       "645           False               7               log2                      4   \n",
       "646           False               7               log2                      4   \n",
       "647           False               7               log2                      4   \n",
       "\n",
       "    param_min_samples_split param_n_estimators  \\\n",
       "0                         2                 10   \n",
       "1                         2                 50   \n",
       "2                         2                100   \n",
       "3                         2                200   \n",
       "4                         5                 10   \n",
       "..                      ...                ...   \n",
       "643                       5                200   \n",
       "644                      10                 10   \n",
       "645                      10                 50   \n",
       "646                      10                100   \n",
       "647                      10                200   \n",
       "\n",
       "                                                params  split0_test_score  \\\n",
       "0    {'bootstrap': True, 'max_depth': 3, 'max_featu...           0.691008   \n",
       "1    {'bootstrap': True, 'max_depth': 3, 'max_featu...           0.689403   \n",
       "2    {'bootstrap': True, 'max_depth': 3, 'max_featu...           0.692267   \n",
       "3    {'bootstrap': True, 'max_depth': 3, 'max_featu...           0.688891   \n",
       "4    {'bootstrap': True, 'max_depth': 3, 'max_featu...           0.697871   \n",
       "..                                                 ...                ...   \n",
       "643  {'bootstrap': False, 'max_depth': 7, 'max_feat...           0.854049   \n",
       "644  {'bootstrap': False, 'max_depth': 7, 'max_feat...           0.837447   \n",
       "645  {'bootstrap': False, 'max_depth': 7, 'max_feat...           0.846678   \n",
       "646  {'bootstrap': False, 'max_depth': 7, 'max_feat...           0.850054   \n",
       "647  {'bootstrap': False, 'max_depth': 7, 'max_feat...           0.850937   \n",
       "\n",
       "     split1_test_score  split2_test_score  split3_test_score  \\\n",
       "0             0.704038           0.733788           0.610036   \n",
       "1             0.693536           0.748767           0.647310   \n",
       "2             0.702576           0.747823           0.635700   \n",
       "3             0.693000           0.758384           0.635131   \n",
       "4             0.687946           0.736954           0.624114   \n",
       "..                 ...                ...                ...   \n",
       "643           0.853894           0.894016           0.836338   \n",
       "644           0.845235           0.887698           0.811060   \n",
       "645           0.862589           0.894053           0.833421   \n",
       "646           0.855986           0.889704           0.835011   \n",
       "647           0.858820           0.896136           0.837664   \n",
       "\n",
       "     split4_test_score  mean_test_score  std_test_score  rank_test_score  \n",
       "0             0.707650         0.689304        0.041997              461  \n",
       "1             0.694631         0.694729        0.032244              454  \n",
       "2             0.717668         0.699207        0.036870              438  \n",
       "3             0.714308         0.697943        0.039931              443  \n",
       "4             0.750498         0.699477        0.044324              436  \n",
       "..                 ...              ...             ...              ...  \n",
       "643           0.858066         0.859273        0.018925               58  \n",
       "644           0.853473         0.846983        0.024837               90  \n",
       "645           0.853645         0.858077        0.020357               62  \n",
       "646           0.853290         0.856809        0.017977               64  \n",
       "647           0.859319         0.860575        0.019427               51  \n",
       "\n",
       "[648 rows x 19 columns]"
      ]
     },
     "execution_count": 31,
     "metadata": {},
     "output_type": "execute_result"
    }
   ],
   "source": [
    "rslt_tuning_rfr = pd.DataFrame(rfr_grid_search.cv_results_)\n",
    "rslt_tuning_rfr"
   ]
  },
  {
   "cell_type": "code",
   "execution_count": 32,
   "id": "4b4e0387",
   "metadata": {},
   "outputs": [
    {
     "data": {
      "text/plain": [
       "{'bootstrap': True,\n",
       " 'max_depth': 7,\n",
       " 'max_features': 'auto',\n",
       " 'min_samples_leaf': 1,\n",
       " 'min_samples_split': 2,\n",
       " 'n_estimators': 100}"
      ]
     },
     "execution_count": 32,
     "metadata": {},
     "output_type": "execute_result"
    }
   ],
   "source": [
    "best_params = rfr_grid_search.best_params_\n",
    "best_params"
   ]
  },
  {
   "cell_type": "code",
   "execution_count": 33,
   "id": "b73b5801",
   "metadata": {},
   "outputs": [],
   "source": [
    "best_model = rfr_grid_search.best_estimator_"
   ]
  },
  {
   "cell_type": "code",
   "execution_count": 34,
   "id": "7c0e0ae4",
   "metadata": {},
   "outputs": [],
   "source": [
    "y_pred_rfr_gs = best_model.predict(xtest)"
   ]
  },
  {
   "cell_type": "code",
   "execution_count": 35,
   "id": "a80c8e23",
   "metadata": {},
   "outputs": [
    {
     "data": {
      "text/plain": [
       "array([47.92040099, 40.52689799, 71.58211124, 33.30713129, 11.58012633,\n",
       "       42.46876169, 26.28671197, 47.73690835, 37.02743505, 40.90293881,\n",
       "       42.86364698, 17.23928721, 39.03755841, 34.98342934, 24.35606468,\n",
       "       20.07804879, 37.06631707, 19.11683594, 39.48535968, 31.12842398,\n",
       "       38.54001272, 36.78046392, 46.36319482, 11.88506505, 33.86237226,\n",
       "       38.56498511, 13.390136  , 49.40488611, 51.01214355, 14.24972005,\n",
       "       62.60675558, 35.36346586, 43.61712052, 48.34306236, 17.15544563,\n",
       "       40.74890933, 35.66424705, 42.17598621,  9.54397676, 49.78763691,\n",
       "       16.25996869,  6.86998242, 40.70019778, 51.87030186, 13.29296988,\n",
       "       65.33250554, 53.30765637, 34.52427976, 28.69068471,  8.90415592,\n",
       "       52.19284842, 43.66099389, 27.21925191, 17.72016279, 46.39054872,\n",
       "       33.82132875, 27.86853132, 13.79057243, 39.27360041, 22.2058718 ,\n",
       "       42.17598621, 14.45612503, 35.5130445 , 50.19227302, 33.83554313,\n",
       "       28.68416885, 35.61100011, 13.9236743 , 31.64764356, 24.05670501,\n",
       "       13.50420175, 32.89872998, 11.55859256, 42.86364698, 27.24887848,\n",
       "       12.21370646, 47.80951122, 48.17573163, 55.82313281, 10.20302867,\n",
       "       36.25564988, 46.50105405, 38.21891958, 38.15472676, 42.46447782,\n",
       "       33.30713129, 36.52153234, 36.67042981, 26.73199853, 23.12401719,\n",
       "       35.16067855, 68.33573772, 13.51029729, 53.66460965, 40.9610554 ,\n",
       "       46.61626102, 23.93984945, 35.38068868, 22.41267187, 33.99933317,\n",
       "       31.22013704, 40.0611515 , 40.96761045, 23.8818081 , 65.09949935,\n",
       "       13.64770294, 51.35885289, 33.21842673, 39.72551734, 59.48516733,\n",
       "       36.43173968, 47.8942967 , 23.38042335, 41.40222476, 35.09883924,\n",
       "       55.22830327, 17.70323862, 35.55646813, 55.45540609, 41.04596117,\n",
       "       21.12562582, 30.60969678, 50.22869353, 33.38339385, 24.47508253,\n",
       "       44.7856575 , 49.91049712, 48.50688425, 42.62526109, 36.8225774 ,\n",
       "       13.79057243, 35.21468257, 23.30993524, 66.73499127, 12.31059627,\n",
       "       42.37399549, 34.99782024, 37.28298175, 22.02683504, 33.32040566,\n",
       "       30.42969016, 35.9596552 , 14.9481429 , 33.71856623, 45.46418058,\n",
       "       41.217884  , 27.99483296, 15.01260838,  7.62266816, 17.37935515,\n",
       "       41.49949564, 26.34482487, 39.68881287, 22.31613359, 42.46157879,\n",
       "       36.26213173, 32.62133874, 68.37420028, 40.52689799, 45.99409747,\n",
       "       12.65118812, 59.98990631, 34.28819198, 49.21855278, 34.62982587,\n",
       "       62.06082154, 42.42920535, 23.68515493, 39.08164617, 21.62060427,\n",
       "       43.21524764, 11.1354553 , 23.4335398 , 36.66280253, 34.02512821,\n",
       "       12.9684464 , 33.71150347, 46.07194305, 46.5112073 , 36.57048803,\n",
       "       30.37600642, 26.52502875, 59.48516733, 35.07243702, 40.03612085,\n",
       "       47.76735122, 23.74757828, 38.07788974, 29.23310835, 15.62559241,\n",
       "       25.96080667, 39.49812086, 40.87055162, 39.64862032, 30.99670422,\n",
       "       29.23995774, 46.49671371, 26.34482487, 24.54703257, 32.06808215,\n",
       "       39.46344585, 55.22830327, 26.93688172, 34.32689326, 63.71352667,\n",
       "       36.11470824, 31.91645957, 60.24209629, 22.38402608, 35.50569784,\n",
       "       15.34590963, 32.84494128, 23.77471552, 44.24840492, 42.82459225,\n",
       "        6.38300376, 14.25210019, 36.65799178, 23.34381347, 71.79307975,\n",
       "       29.01008937, 53.23498361, 59.00823232, 21.43656705, 51.04235683,\n",
       "       22.06421068, 47.29078155, 25.51488152, 23.36946214, 28.57467227,\n",
       "       13.63823042, 14.95830948, 39.36615103, 42.72550553, 34.28769567,\n",
       "       34.52427976, 34.36583766, 33.40812857, 46.99882536, 14.93164109,\n",
       "       30.90980457, 40.9864536 , 51.53565499, 29.35585065, 64.54482168,\n",
       "       31.48348348, 66.89431028, 21.68709548, 49.14712962, 63.46157971,\n",
       "       35.36754376, 40.54293824, 40.01476418, 32.40846245, 40.03231918,\n",
       "       15.32957327, 33.83554313, 16.6569958 ])"
      ]
     },
     "execution_count": 35,
     "metadata": {},
     "output_type": "execute_result"
    }
   ],
   "source": [
    "y_pred_rfr_gs"
   ]
  },
  {
   "cell_type": "code",
   "execution_count": 36,
   "id": "a47d0665",
   "metadata": {},
   "outputs": [
    {
     "name": "stdout",
     "output_type": "stream",
     "text": [
      "Accuracy of Random Forest after using Grid Search:\n"
     ]
    },
    {
     "data": {
      "text/plain": [
       "0.8793444216816084"
      ]
     },
     "execution_count": 36,
     "metadata": {},
     "output_type": "execute_result"
    }
   ],
   "source": [
    "print(\"Accuracy of Random Forest after using Grid Search:\")\n",
    "rfr_grid_search.best_score_"
   ]
  },
  {
   "cell_type": "code",
   "execution_count": 37,
   "id": "6c47c494",
   "metadata": {},
   "outputs": [
    {
     "data": {
      "text/html": [
       "<div>\n",
       "<style scoped>\n",
       "    .dataframe tbody tr th:only-of-type {\n",
       "        vertical-align: middle;\n",
       "    }\n",
       "\n",
       "    .dataframe tbody tr th {\n",
       "        vertical-align: top;\n",
       "    }\n",
       "\n",
       "    .dataframe thead th {\n",
       "        text-align: right;\n",
       "    }\n",
       "</style>\n",
       "<table border=\"1\" class=\"dataframe\">\n",
       "  <thead>\n",
       "    <tr style=\"text-align: right;\">\n",
       "      <th></th>\n",
       "      <th>Model</th>\n",
       "      <th>MAE</th>\n",
       "      <th>MSE</th>\n",
       "      <th>r2 Score</th>\n",
       "      <th>RMSE</th>\n",
       "    </tr>\n",
       "  </thead>\n",
       "  <tbody>\n",
       "    <tr>\n",
       "      <th>0</th>\n",
       "      <td>Linear Regression</td>\n",
       "      <td>7.987048</td>\n",
       "      <td>101.581396</td>\n",
       "      <td>0.624983</td>\n",
       "      <td>10.078760</td>\n",
       "    </tr>\n",
       "    <tr>\n",
       "      <th>2</th>\n",
       "      <td>Gradient Boosting Regressor</td>\n",
       "      <td>4.115163</td>\n",
       "      <td>30.428344</td>\n",
       "      <td>0.887665</td>\n",
       "      <td>5.516189</td>\n",
       "    </tr>\n",
       "    <tr>\n",
       "      <th>1</th>\n",
       "      <td>Random Forest Regressor</td>\n",
       "      <td>3.762209</td>\n",
       "      <td>30.289999</td>\n",
       "      <td>0.888176</td>\n",
       "      <td>5.503635</td>\n",
       "    </tr>\n",
       "  </tbody>\n",
       "</table>\n",
       "</div>"
      ],
      "text/plain": [
       "                         Model       MAE         MSE  r2 Score       RMSE\n",
       "0            Linear Regression  7.987048  101.581396  0.624983  10.078760\n",
       "2  Gradient Boosting Regressor  4.115163   30.428344  0.887665   5.516189\n",
       "1      Random Forest Regressor  3.762209   30.289999  0.888176   5.503635"
      ]
     },
     "execution_count": 37,
     "metadata": {},
     "output_type": "execute_result"
    }
   ],
   "source": [
    "models.sort_values(by=\"RMSE\", ascending= False)"
   ]
  },
  {
   "cell_type": "markdown",
   "id": "46a576fc",
   "metadata": {},
   "source": [
    "# Reasons behind on choosen Hyperparameters"
   ]
  },
  {
   "cell_type": "markdown",
   "id": "a2829f5a",
   "metadata": {},
   "source": [
    "I have applied hyperparameter on Random Forest Regression model. Here's a condensed explanation of the chosen hyperparameters and their reasoning for my concrete strength project:\n",
    "\n",
    "i) Number of trees (n_estimators): I am exploring a range of 10 to 200 trees to balance model complexity and accuracy. More trees often lead to better performance but also increase training time.\n",
    "ii) Tree depth (max_depth): Limiting maximum depth to 3, 5, or 7 to prevent overfitting, as excessively deep trees can memorize noise in the data instead of generalizing well.\n",
    "iii) Split requirements (min_samples_split, min_samples_leaf): You're setting minimum sample thresholds to control tree growth and reduce overfitting. Higher values make trees more conservative in splitting, ensuring patterns are based on sufficient data.\n",
    "iv) Feature sampling (max_features): You're experimenting with different strategies to diversify trees and prevent reliance on a few dominant features. 'auto' uses a default heuristic, while 'sqrt' and 'log2' limit features considered at each split.\n",
    "v) Bootstrapping (bootstrap): I'm testing both with and without bootstrapping to assess its impact on accuracy and diversity. Bootstrapping involves sampling data with replacement for each tree, potentially improving robustness but also increasing randomness.\n",
    "\n",
    "Essentially, I'm exploring a variety of hyperparameter settings to fine-tune the model's balance between complexity, accuracy, and generalization to achieve optimal performance in predicting concrete strength."
   ]
  },
  {
   "cell_type": "markdown",
   "id": "78a2b6db",
   "metadata": {},
   "source": [
    "# Comparative Analysis"
   ]
  },
  {
   "cell_type": "markdown",
   "id": "8cbde93b",
   "metadata": {},
   "source": [
    "Here highest accuracy gain by using Random Forest Regression model. The accuracy is 89%.\n",
    "The limitations of each model:-\n",
    "\n",
    "Limitations of Linear Regression:\n",
    "i) Assumes linearity, might not capture complex relationships or interactions between features.\n",
    "ii) Sensitive to outliers, which can significantly affect predictions.\n",
    "\n",
    "Limitations of Random Forest:\n",
    "i) Less interpretable than linear regression, harder to understand feature importance.\n",
    "ii) Can be computationally expensive to train, especially with large datasets.\n",
    "\n",
    "Limitations of Gradient Boosting:\n",
    "i) More prone to overfitting than Random Forest if not tuned properly.\n",
    "ii) Computationally expensive to train, especially with large datasets.\n",
    "iii) Less interpretable than linear regression."
   ]
  },
  {
   "cell_type": "markdown",
   "id": "3b7abe09",
   "metadata": {},
   "source": [
    "# Conclusion"
   ]
  },
  {
   "cell_type": "markdown",
   "id": "7ddb3fd2",
   "metadata": {},
   "source": [
    "In conclusion, the concrete strength prediction project has demonstrated significant advancements in the field of construction materials engineering. Through the utilization of advanced machine learning algorithms and extensive datasets, we have successfully developed a robust model capable of accurately predicting concrete strength. \n",
    "The accuracy and reliability of our machine learning model were validated through rigorous testing and comparison with traditional methods of concrete strength prediction. The model not only outperformed existing approaches but also showcased its adaptability to diverse scenarios and variations in material composition.\n",
    "In essence, the concrete strength prediction machine learning project stands as a beacon of innovation, offering a glimpse into the future of construction materials engineering and paving the way for more sophisticated and precise methodologies in the field."
   ]
  }
 ],
 "metadata": {
  "kernelspec": {
   "display_name": "Python 3 (ipykernel)",
   "language": "python",
   "name": "python3"
  },
  "language_info": {
   "codemirror_mode": {
    "name": "ipython",
    "version": 3
   },
   "file_extension": ".py",
   "mimetype": "text/x-python",
   "name": "python",
   "nbconvert_exporter": "python",
   "pygments_lexer": "ipython3",
   "version": "3.9.13"
  }
 },
 "nbformat": 4,
 "nbformat_minor": 5
}
